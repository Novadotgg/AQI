{
  "cells": [
    {
      "cell_type": "markdown",
      "metadata": {
        "id": "view-in-github",
        "colab_type": "text"
      },
      "source": [
        "<a href=\"https://colab.research.google.com/github/Novadotgg/AQI/blob/main/AQIregression.ipynb\" target=\"_parent\"><img src=\"https://colab.research.google.com/assets/colab-badge.svg\" alt=\"Open In Colab\"/></a>"
      ]
    },
    {
      "cell_type": "code",
      "execution_count": null,
      "metadata": {
        "colab": {
          "base_uri": "https://localhost:8080/"
        },
        "id": "Quo7xMXym3Ow",
        "outputId": "1f7ae0a3-1995-4864-beb9-00afa3eced13"
      },
      "outputs": [
        {
          "output_type": "stream",
          "name": "stdout",
          "text": [
            "Mounted at /content/drive\n"
          ]
        }
      ],
      "source": [
        "from google.colab import drive\n",
        "drive.mount('/content/drive')"
      ]
    },
    {
      "cell_type": "code",
      "execution_count": null,
      "metadata": {
        "colab": {
          "base_uri": "https://localhost:8080/",
          "height": 241
        },
        "id": "BVcK480IMBvk",
        "outputId": "10d4264a-b369-46a3-eb52-69dbb86c1a1b"
      },
      "outputs": [
        {
          "output_type": "stream",
          "name": "stderr",
          "text": [
            "<ipython-input-2-1f7450222cf5>:11: DtypeWarning: Columns (5,7) have mixed types. Specify dtype option on import or set low_memory=False.\n",
            "  df=pd.read_csv('/content/drive/MyDrive/merged ddup.csv')\n"
          ]
        },
        {
          "output_type": "execute_result",
          "data": {
            "text/plain": [
              "            State       City                         Station  \\\n",
              "0  Andhra Pradesh  Amaravati  Secretariat, Amaravati - APPCB   \n",
              "1  Andhra Pradesh  Amaravati  Secretariat, Amaravati - APPCB   \n",
              "2  Andhra Pradesh  Amaravati  Secretariat, Amaravati - APPCB   \n",
              "3  Andhra Pradesh  Amaravati  Secretariat, Amaravati - APPCB   \n",
              "4  Andhra Pradesh  Amaravati  Secretariat, Amaravati - APPCB   \n",
              "\n",
              "          From Date           To Date  Ozone    CO    SO2   NO2   PM10  PM2.5  \\\n",
              "0  01-08-2021 00:00  02-08-2021 00:00  21.85  0.35  10.97  6.65  20.35   5.46   \n",
              "1  02-08-2021 00:00  03-08-2021 00:00  23.57  0.39  11.88  7.20  24.83   7.07   \n",
              "2  03-08-2021 00:00  04-08-2021 00:00   22.4  0.35  11.86  8.41  28.16   6.96   \n",
              "3  04-08-2021 00:00  05-08-2021 00:00  20.71  0.41  11.49  7.60  20.86   5.09   \n",
              "4  05-08-2021 00:00  06-08-2021 00:00  20.84  0.31  15.08  7.09  26.44   5.91   \n",
              "\n",
              "   AQI  AQI Bucket  \n",
              "0  NaN         NaN  \n",
              "1  NaN         NaN  \n",
              "2  NaN         NaN  \n",
              "3  NaN         NaN  \n",
              "4  NaN         NaN  "
            ],
            "text/html": [
              "\n",
              "  <div id=\"df-4920ed5d-a657-4460-814a-355c53306937\" class=\"colab-df-container\">\n",
              "    <div>\n",
              "<style scoped>\n",
              "    .dataframe tbody tr th:only-of-type {\n",
              "        vertical-align: middle;\n",
              "    }\n",
              "\n",
              "    .dataframe tbody tr th {\n",
              "        vertical-align: top;\n",
              "    }\n",
              "\n",
              "    .dataframe thead th {\n",
              "        text-align: right;\n",
              "    }\n",
              "</style>\n",
              "<table border=\"1\" class=\"dataframe\">\n",
              "  <thead>\n",
              "    <tr style=\"text-align: right;\">\n",
              "      <th></th>\n",
              "      <th>State</th>\n",
              "      <th>City</th>\n",
              "      <th>Station</th>\n",
              "      <th>From Date</th>\n",
              "      <th>To Date</th>\n",
              "      <th>Ozone</th>\n",
              "      <th>CO</th>\n",
              "      <th>SO2</th>\n",
              "      <th>NO2</th>\n",
              "      <th>PM10</th>\n",
              "      <th>PM2.5</th>\n",
              "      <th>AQI</th>\n",
              "      <th>AQI Bucket</th>\n",
              "    </tr>\n",
              "  </thead>\n",
              "  <tbody>\n",
              "    <tr>\n",
              "      <th>0</th>\n",
              "      <td>Andhra Pradesh</td>\n",
              "      <td>Amaravati</td>\n",
              "      <td>Secretariat, Amaravati - APPCB</td>\n",
              "      <td>01-08-2021 00:00</td>\n",
              "      <td>02-08-2021 00:00</td>\n",
              "      <td>21.85</td>\n",
              "      <td>0.35</td>\n",
              "      <td>10.97</td>\n",
              "      <td>6.65</td>\n",
              "      <td>20.35</td>\n",
              "      <td>5.46</td>\n",
              "      <td>NaN</td>\n",
              "      <td>NaN</td>\n",
              "    </tr>\n",
              "    <tr>\n",
              "      <th>1</th>\n",
              "      <td>Andhra Pradesh</td>\n",
              "      <td>Amaravati</td>\n",
              "      <td>Secretariat, Amaravati - APPCB</td>\n",
              "      <td>02-08-2021 00:00</td>\n",
              "      <td>03-08-2021 00:00</td>\n",
              "      <td>23.57</td>\n",
              "      <td>0.39</td>\n",
              "      <td>11.88</td>\n",
              "      <td>7.20</td>\n",
              "      <td>24.83</td>\n",
              "      <td>7.07</td>\n",
              "      <td>NaN</td>\n",
              "      <td>NaN</td>\n",
              "    </tr>\n",
              "    <tr>\n",
              "      <th>2</th>\n",
              "      <td>Andhra Pradesh</td>\n",
              "      <td>Amaravati</td>\n",
              "      <td>Secretariat, Amaravati - APPCB</td>\n",
              "      <td>03-08-2021 00:00</td>\n",
              "      <td>04-08-2021 00:00</td>\n",
              "      <td>22.4</td>\n",
              "      <td>0.35</td>\n",
              "      <td>11.86</td>\n",
              "      <td>8.41</td>\n",
              "      <td>28.16</td>\n",
              "      <td>6.96</td>\n",
              "      <td>NaN</td>\n",
              "      <td>NaN</td>\n",
              "    </tr>\n",
              "    <tr>\n",
              "      <th>3</th>\n",
              "      <td>Andhra Pradesh</td>\n",
              "      <td>Amaravati</td>\n",
              "      <td>Secretariat, Amaravati - APPCB</td>\n",
              "      <td>04-08-2021 00:00</td>\n",
              "      <td>05-08-2021 00:00</td>\n",
              "      <td>20.71</td>\n",
              "      <td>0.41</td>\n",
              "      <td>11.49</td>\n",
              "      <td>7.60</td>\n",
              "      <td>20.86</td>\n",
              "      <td>5.09</td>\n",
              "      <td>NaN</td>\n",
              "      <td>NaN</td>\n",
              "    </tr>\n",
              "    <tr>\n",
              "      <th>4</th>\n",
              "      <td>Andhra Pradesh</td>\n",
              "      <td>Amaravati</td>\n",
              "      <td>Secretariat, Amaravati - APPCB</td>\n",
              "      <td>05-08-2021 00:00</td>\n",
              "      <td>06-08-2021 00:00</td>\n",
              "      <td>20.84</td>\n",
              "      <td>0.31</td>\n",
              "      <td>15.08</td>\n",
              "      <td>7.09</td>\n",
              "      <td>26.44</td>\n",
              "      <td>5.91</td>\n",
              "      <td>NaN</td>\n",
              "      <td>NaN</td>\n",
              "    </tr>\n",
              "  </tbody>\n",
              "</table>\n",
              "</div>\n",
              "    <div class=\"colab-df-buttons\">\n",
              "\n",
              "  <div class=\"colab-df-container\">\n",
              "    <button class=\"colab-df-convert\" onclick=\"convertToInteractive('df-4920ed5d-a657-4460-814a-355c53306937')\"\n",
              "            title=\"Convert this dataframe to an interactive table.\"\n",
              "            style=\"display:none;\">\n",
              "\n",
              "  <svg xmlns=\"http://www.w3.org/2000/svg\" height=\"24px\" viewBox=\"0 -960 960 960\">\n",
              "    <path d=\"M120-120v-720h720v720H120Zm60-500h600v-160H180v160Zm220 220h160v-160H400v160Zm0 220h160v-160H400v160ZM180-400h160v-160H180v160Zm440 0h160v-160H620v160ZM180-180h160v-160H180v160Zm440 0h160v-160H620v160Z\"/>\n",
              "  </svg>\n",
              "    </button>\n",
              "\n",
              "  <style>\n",
              "    .colab-df-container {\n",
              "      display:flex;\n",
              "      gap: 12px;\n",
              "    }\n",
              "\n",
              "    .colab-df-convert {\n",
              "      background-color: #E8F0FE;\n",
              "      border: none;\n",
              "      border-radius: 50%;\n",
              "      cursor: pointer;\n",
              "      display: none;\n",
              "      fill: #1967D2;\n",
              "      height: 32px;\n",
              "      padding: 0 0 0 0;\n",
              "      width: 32px;\n",
              "    }\n",
              "\n",
              "    .colab-df-convert:hover {\n",
              "      background-color: #E2EBFA;\n",
              "      box-shadow: 0px 1px 2px rgba(60, 64, 67, 0.3), 0px 1px 3px 1px rgba(60, 64, 67, 0.15);\n",
              "      fill: #174EA6;\n",
              "    }\n",
              "\n",
              "    .colab-df-buttons div {\n",
              "      margin-bottom: 4px;\n",
              "    }\n",
              "\n",
              "    [theme=dark] .colab-df-convert {\n",
              "      background-color: #3B4455;\n",
              "      fill: #D2E3FC;\n",
              "    }\n",
              "\n",
              "    [theme=dark] .colab-df-convert:hover {\n",
              "      background-color: #434B5C;\n",
              "      box-shadow: 0px 1px 3px 1px rgba(0, 0, 0, 0.15);\n",
              "      filter: drop-shadow(0px 1px 2px rgba(0, 0, 0, 0.3));\n",
              "      fill: #FFFFFF;\n",
              "    }\n",
              "  </style>\n",
              "\n",
              "    <script>\n",
              "      const buttonEl =\n",
              "        document.querySelector('#df-4920ed5d-a657-4460-814a-355c53306937 button.colab-df-convert');\n",
              "      buttonEl.style.display =\n",
              "        google.colab.kernel.accessAllowed ? 'block' : 'none';\n",
              "\n",
              "      async function convertToInteractive(key) {\n",
              "        const element = document.querySelector('#df-4920ed5d-a657-4460-814a-355c53306937');\n",
              "        const dataTable =\n",
              "          await google.colab.kernel.invokeFunction('convertToInteractive',\n",
              "                                                    [key], {});\n",
              "        if (!dataTable) return;\n",
              "\n",
              "        const docLinkHtml = 'Like what you see? Visit the ' +\n",
              "          '<a target=\"_blank\" href=https://colab.research.google.com/notebooks/data_table.ipynb>data table notebook</a>'\n",
              "          + ' to learn more about interactive tables.';\n",
              "        element.innerHTML = '';\n",
              "        dataTable['output_type'] = 'display_data';\n",
              "        await google.colab.output.renderOutput(dataTable, element);\n",
              "        const docLink = document.createElement('div');\n",
              "        docLink.innerHTML = docLinkHtml;\n",
              "        element.appendChild(docLink);\n",
              "      }\n",
              "    </script>\n",
              "  </div>\n",
              "\n",
              "\n",
              "<div id=\"df-a69cc7d6-6b7d-48bd-8076-5b8c9d506e7b\">\n",
              "  <button class=\"colab-df-quickchart\" onclick=\"quickchart('df-a69cc7d6-6b7d-48bd-8076-5b8c9d506e7b')\"\n",
              "            title=\"Suggest charts\"\n",
              "            style=\"display:none;\">\n",
              "\n",
              "<svg xmlns=\"http://www.w3.org/2000/svg\" height=\"24px\"viewBox=\"0 0 24 24\"\n",
              "     width=\"24px\">\n",
              "    <g>\n",
              "        <path d=\"M19 3H5c-1.1 0-2 .9-2 2v14c0 1.1.9 2 2 2h14c1.1 0 2-.9 2-2V5c0-1.1-.9-2-2-2zM9 17H7v-7h2v7zm4 0h-2V7h2v10zm4 0h-2v-4h2v4z\"/>\n",
              "    </g>\n",
              "</svg>\n",
              "  </button>\n",
              "\n",
              "<style>\n",
              "  .colab-df-quickchart {\n",
              "      --bg-color: #E8F0FE;\n",
              "      --fill-color: #1967D2;\n",
              "      --hover-bg-color: #E2EBFA;\n",
              "      --hover-fill-color: #174EA6;\n",
              "      --disabled-fill-color: #AAA;\n",
              "      --disabled-bg-color: #DDD;\n",
              "  }\n",
              "\n",
              "  [theme=dark] .colab-df-quickchart {\n",
              "      --bg-color: #3B4455;\n",
              "      --fill-color: #D2E3FC;\n",
              "      --hover-bg-color: #434B5C;\n",
              "      --hover-fill-color: #FFFFFF;\n",
              "      --disabled-bg-color: #3B4455;\n",
              "      --disabled-fill-color: #666;\n",
              "  }\n",
              "\n",
              "  .colab-df-quickchart {\n",
              "    background-color: var(--bg-color);\n",
              "    border: none;\n",
              "    border-radius: 50%;\n",
              "    cursor: pointer;\n",
              "    display: none;\n",
              "    fill: var(--fill-color);\n",
              "    height: 32px;\n",
              "    padding: 0;\n",
              "    width: 32px;\n",
              "  }\n",
              "\n",
              "  .colab-df-quickchart:hover {\n",
              "    background-color: var(--hover-bg-color);\n",
              "    box-shadow: 0 1px 2px rgba(60, 64, 67, 0.3), 0 1px 3px 1px rgba(60, 64, 67, 0.15);\n",
              "    fill: var(--button-hover-fill-color);\n",
              "  }\n",
              "\n",
              "  .colab-df-quickchart-complete:disabled,\n",
              "  .colab-df-quickchart-complete:disabled:hover {\n",
              "    background-color: var(--disabled-bg-color);\n",
              "    fill: var(--disabled-fill-color);\n",
              "    box-shadow: none;\n",
              "  }\n",
              "\n",
              "  .colab-df-spinner {\n",
              "    border: 2px solid var(--fill-color);\n",
              "    border-color: transparent;\n",
              "    border-bottom-color: var(--fill-color);\n",
              "    animation:\n",
              "      spin 1s steps(1) infinite;\n",
              "  }\n",
              "\n",
              "  @keyframes spin {\n",
              "    0% {\n",
              "      border-color: transparent;\n",
              "      border-bottom-color: var(--fill-color);\n",
              "      border-left-color: var(--fill-color);\n",
              "    }\n",
              "    20% {\n",
              "      border-color: transparent;\n",
              "      border-left-color: var(--fill-color);\n",
              "      border-top-color: var(--fill-color);\n",
              "    }\n",
              "    30% {\n",
              "      border-color: transparent;\n",
              "      border-left-color: var(--fill-color);\n",
              "      border-top-color: var(--fill-color);\n",
              "      border-right-color: var(--fill-color);\n",
              "    }\n",
              "    40% {\n",
              "      border-color: transparent;\n",
              "      border-right-color: var(--fill-color);\n",
              "      border-top-color: var(--fill-color);\n",
              "    }\n",
              "    60% {\n",
              "      border-color: transparent;\n",
              "      border-right-color: var(--fill-color);\n",
              "    }\n",
              "    80% {\n",
              "      border-color: transparent;\n",
              "      border-right-color: var(--fill-color);\n",
              "      border-bottom-color: var(--fill-color);\n",
              "    }\n",
              "    90% {\n",
              "      border-color: transparent;\n",
              "      border-bottom-color: var(--fill-color);\n",
              "    }\n",
              "  }\n",
              "</style>\n",
              "\n",
              "  <script>\n",
              "    async function quickchart(key) {\n",
              "      const quickchartButtonEl =\n",
              "        document.querySelector('#' + key + ' button');\n",
              "      quickchartButtonEl.disabled = true;  // To prevent multiple clicks.\n",
              "      quickchartButtonEl.classList.add('colab-df-spinner');\n",
              "      try {\n",
              "        const charts = await google.colab.kernel.invokeFunction(\n",
              "            'suggestCharts', [key], {});\n",
              "      } catch (error) {\n",
              "        console.error('Error during call to suggestCharts:', error);\n",
              "      }\n",
              "      quickchartButtonEl.classList.remove('colab-df-spinner');\n",
              "      quickchartButtonEl.classList.add('colab-df-quickchart-complete');\n",
              "    }\n",
              "    (() => {\n",
              "      let quickchartButtonEl =\n",
              "        document.querySelector('#df-a69cc7d6-6b7d-48bd-8076-5b8c9d506e7b button');\n",
              "      quickchartButtonEl.style.display =\n",
              "        google.colab.kernel.accessAllowed ? 'block' : 'none';\n",
              "    })();\n",
              "  </script>\n",
              "</div>\n",
              "\n",
              "    </div>\n",
              "  </div>\n"
            ],
            "application/vnd.google.colaboratory.intrinsic+json": {
              "type": "dataframe",
              "variable_name": "df"
            }
          },
          "metadata": {},
          "execution_count": 2
        }
      ],
      "source": [
        "import numpy as np\n",
        "import pandas as pd\n",
        "import matplotlib.pyplot as plt\n",
        "import seaborn as sns\n",
        "import os\n",
        "for dirname, _, filenames in os.walk('/kaggle/input'):\n",
        "    for filename in filenames:\n",
        "        print(os.path.join(dirname, filename))\n",
        "import matplotlib.pyplot as plt\n",
        "import seaborn as sns\n",
        "df=pd.read_csv('/content/drive/MyDrive/merged ddup.csv')\n",
        "from sklearn.model_selection import train_test_split\n",
        "from sklearn.metrics import classification_report\n",
        "from sklearn import metrics\n",
        "from sklearn import tree\n",
        "from sklearn.metrics import *\n",
        "df.head()"
      ]
    },
    {
      "cell_type": "code",
      "execution_count": null,
      "metadata": {
        "colab": {
          "base_uri": "https://localhost:8080/",
          "height": 300
        },
        "id": "qtsziymlNUV4",
        "outputId": "8d5250ac-df3f-4718-f983-d11d18b76bb2"
      },
      "outputs": [
        {
          "output_type": "execute_result",
          "data": {
            "text/plain": [
              "                  CO            NO2           PM10          PM2.5  AQI  \\\n",
              "count  194637.000000  196210.000000  195548.000000  197173.000000  0.0   \n",
              "mean        0.889014      26.163870     126.096532      58.302650  NaN   \n",
              "std         0.655517      25.376283      96.486306      54.067406  NaN   \n",
              "min         0.000000       0.010000       0.170000       0.050000  NaN   \n",
              "25%         0.470000      10.520000      56.380000      23.630000  NaN   \n",
              "50%         0.740000      19.420000      98.080000      41.680000  NaN   \n",
              "75%         1.120000      33.880000     167.240000      73.710000  NaN   \n",
              "max        11.400000     500.000000    1000.000000     985.000000  NaN   \n",
              "\n",
              "       AQI Bucket  \n",
              "count         0.0  \n",
              "mean          NaN  \n",
              "std           NaN  \n",
              "min           NaN  \n",
              "25%           NaN  \n",
              "50%           NaN  \n",
              "75%           NaN  \n",
              "max           NaN  "
            ],
            "text/html": [
              "\n",
              "  <div id=\"df-c64992ee-398b-4cf0-b38a-879dad71aa83\" class=\"colab-df-container\">\n",
              "    <div>\n",
              "<style scoped>\n",
              "    .dataframe tbody tr th:only-of-type {\n",
              "        vertical-align: middle;\n",
              "    }\n",
              "\n",
              "    .dataframe tbody tr th {\n",
              "        vertical-align: top;\n",
              "    }\n",
              "\n",
              "    .dataframe thead th {\n",
              "        text-align: right;\n",
              "    }\n",
              "</style>\n",
              "<table border=\"1\" class=\"dataframe\">\n",
              "  <thead>\n",
              "    <tr style=\"text-align: right;\">\n",
              "      <th></th>\n",
              "      <th>CO</th>\n",
              "      <th>NO2</th>\n",
              "      <th>PM10</th>\n",
              "      <th>PM2.5</th>\n",
              "      <th>AQI</th>\n",
              "      <th>AQI Bucket</th>\n",
              "    </tr>\n",
              "  </thead>\n",
              "  <tbody>\n",
              "    <tr>\n",
              "      <th>count</th>\n",
              "      <td>194637.000000</td>\n",
              "      <td>196210.000000</td>\n",
              "      <td>195548.000000</td>\n",
              "      <td>197173.000000</td>\n",
              "      <td>0.0</td>\n",
              "      <td>0.0</td>\n",
              "    </tr>\n",
              "    <tr>\n",
              "      <th>mean</th>\n",
              "      <td>0.889014</td>\n",
              "      <td>26.163870</td>\n",
              "      <td>126.096532</td>\n",
              "      <td>58.302650</td>\n",
              "      <td>NaN</td>\n",
              "      <td>NaN</td>\n",
              "    </tr>\n",
              "    <tr>\n",
              "      <th>std</th>\n",
              "      <td>0.655517</td>\n",
              "      <td>25.376283</td>\n",
              "      <td>96.486306</td>\n",
              "      <td>54.067406</td>\n",
              "      <td>NaN</td>\n",
              "      <td>NaN</td>\n",
              "    </tr>\n",
              "    <tr>\n",
              "      <th>min</th>\n",
              "      <td>0.000000</td>\n",
              "      <td>0.010000</td>\n",
              "      <td>0.170000</td>\n",
              "      <td>0.050000</td>\n",
              "      <td>NaN</td>\n",
              "      <td>NaN</td>\n",
              "    </tr>\n",
              "    <tr>\n",
              "      <th>25%</th>\n",
              "      <td>0.470000</td>\n",
              "      <td>10.520000</td>\n",
              "      <td>56.380000</td>\n",
              "      <td>23.630000</td>\n",
              "      <td>NaN</td>\n",
              "      <td>NaN</td>\n",
              "    </tr>\n",
              "    <tr>\n",
              "      <th>50%</th>\n",
              "      <td>0.740000</td>\n",
              "      <td>19.420000</td>\n",
              "      <td>98.080000</td>\n",
              "      <td>41.680000</td>\n",
              "      <td>NaN</td>\n",
              "      <td>NaN</td>\n",
              "    </tr>\n",
              "    <tr>\n",
              "      <th>75%</th>\n",
              "      <td>1.120000</td>\n",
              "      <td>33.880000</td>\n",
              "      <td>167.240000</td>\n",
              "      <td>73.710000</td>\n",
              "      <td>NaN</td>\n",
              "      <td>NaN</td>\n",
              "    </tr>\n",
              "    <tr>\n",
              "      <th>max</th>\n",
              "      <td>11.400000</td>\n",
              "      <td>500.000000</td>\n",
              "      <td>1000.000000</td>\n",
              "      <td>985.000000</td>\n",
              "      <td>NaN</td>\n",
              "      <td>NaN</td>\n",
              "    </tr>\n",
              "  </tbody>\n",
              "</table>\n",
              "</div>\n",
              "    <div class=\"colab-df-buttons\">\n",
              "\n",
              "  <div class=\"colab-df-container\">\n",
              "    <button class=\"colab-df-convert\" onclick=\"convertToInteractive('df-c64992ee-398b-4cf0-b38a-879dad71aa83')\"\n",
              "            title=\"Convert this dataframe to an interactive table.\"\n",
              "            style=\"display:none;\">\n",
              "\n",
              "  <svg xmlns=\"http://www.w3.org/2000/svg\" height=\"24px\" viewBox=\"0 -960 960 960\">\n",
              "    <path d=\"M120-120v-720h720v720H120Zm60-500h600v-160H180v160Zm220 220h160v-160H400v160Zm0 220h160v-160H400v160ZM180-400h160v-160H180v160Zm440 0h160v-160H620v160ZM180-180h160v-160H180v160Zm440 0h160v-160H620v160Z\"/>\n",
              "  </svg>\n",
              "    </button>\n",
              "\n",
              "  <style>\n",
              "    .colab-df-container {\n",
              "      display:flex;\n",
              "      gap: 12px;\n",
              "    }\n",
              "\n",
              "    .colab-df-convert {\n",
              "      background-color: #E8F0FE;\n",
              "      border: none;\n",
              "      border-radius: 50%;\n",
              "      cursor: pointer;\n",
              "      display: none;\n",
              "      fill: #1967D2;\n",
              "      height: 32px;\n",
              "      padding: 0 0 0 0;\n",
              "      width: 32px;\n",
              "    }\n",
              "\n",
              "    .colab-df-convert:hover {\n",
              "      background-color: #E2EBFA;\n",
              "      box-shadow: 0px 1px 2px rgba(60, 64, 67, 0.3), 0px 1px 3px 1px rgba(60, 64, 67, 0.15);\n",
              "      fill: #174EA6;\n",
              "    }\n",
              "\n",
              "    .colab-df-buttons div {\n",
              "      margin-bottom: 4px;\n",
              "    }\n",
              "\n",
              "    [theme=dark] .colab-df-convert {\n",
              "      background-color: #3B4455;\n",
              "      fill: #D2E3FC;\n",
              "    }\n",
              "\n",
              "    [theme=dark] .colab-df-convert:hover {\n",
              "      background-color: #434B5C;\n",
              "      box-shadow: 0px 1px 3px 1px rgba(0, 0, 0, 0.15);\n",
              "      filter: drop-shadow(0px 1px 2px rgba(0, 0, 0, 0.3));\n",
              "      fill: #FFFFFF;\n",
              "    }\n",
              "  </style>\n",
              "\n",
              "    <script>\n",
              "      const buttonEl =\n",
              "        document.querySelector('#df-c64992ee-398b-4cf0-b38a-879dad71aa83 button.colab-df-convert');\n",
              "      buttonEl.style.display =\n",
              "        google.colab.kernel.accessAllowed ? 'block' : 'none';\n",
              "\n",
              "      async function convertToInteractive(key) {\n",
              "        const element = document.querySelector('#df-c64992ee-398b-4cf0-b38a-879dad71aa83');\n",
              "        const dataTable =\n",
              "          await google.colab.kernel.invokeFunction('convertToInteractive',\n",
              "                                                    [key], {});\n",
              "        if (!dataTable) return;\n",
              "\n",
              "        const docLinkHtml = 'Like what you see? Visit the ' +\n",
              "          '<a target=\"_blank\" href=https://colab.research.google.com/notebooks/data_table.ipynb>data table notebook</a>'\n",
              "          + ' to learn more about interactive tables.';\n",
              "        element.innerHTML = '';\n",
              "        dataTable['output_type'] = 'display_data';\n",
              "        await google.colab.output.renderOutput(dataTable, element);\n",
              "        const docLink = document.createElement('div');\n",
              "        docLink.innerHTML = docLinkHtml;\n",
              "        element.appendChild(docLink);\n",
              "      }\n",
              "    </script>\n",
              "  </div>\n",
              "\n",
              "\n",
              "<div id=\"df-0065fec8-aade-427c-8463-1398d0005461\">\n",
              "  <button class=\"colab-df-quickchart\" onclick=\"quickchart('df-0065fec8-aade-427c-8463-1398d0005461')\"\n",
              "            title=\"Suggest charts\"\n",
              "            style=\"display:none;\">\n",
              "\n",
              "<svg xmlns=\"http://www.w3.org/2000/svg\" height=\"24px\"viewBox=\"0 0 24 24\"\n",
              "     width=\"24px\">\n",
              "    <g>\n",
              "        <path d=\"M19 3H5c-1.1 0-2 .9-2 2v14c0 1.1.9 2 2 2h14c1.1 0 2-.9 2-2V5c0-1.1-.9-2-2-2zM9 17H7v-7h2v7zm4 0h-2V7h2v10zm4 0h-2v-4h2v4z\"/>\n",
              "    </g>\n",
              "</svg>\n",
              "  </button>\n",
              "\n",
              "<style>\n",
              "  .colab-df-quickchart {\n",
              "      --bg-color: #E8F0FE;\n",
              "      --fill-color: #1967D2;\n",
              "      --hover-bg-color: #E2EBFA;\n",
              "      --hover-fill-color: #174EA6;\n",
              "      --disabled-fill-color: #AAA;\n",
              "      --disabled-bg-color: #DDD;\n",
              "  }\n",
              "\n",
              "  [theme=dark] .colab-df-quickchart {\n",
              "      --bg-color: #3B4455;\n",
              "      --fill-color: #D2E3FC;\n",
              "      --hover-bg-color: #434B5C;\n",
              "      --hover-fill-color: #FFFFFF;\n",
              "      --disabled-bg-color: #3B4455;\n",
              "      --disabled-fill-color: #666;\n",
              "  }\n",
              "\n",
              "  .colab-df-quickchart {\n",
              "    background-color: var(--bg-color);\n",
              "    border: none;\n",
              "    border-radius: 50%;\n",
              "    cursor: pointer;\n",
              "    display: none;\n",
              "    fill: var(--fill-color);\n",
              "    height: 32px;\n",
              "    padding: 0;\n",
              "    width: 32px;\n",
              "  }\n",
              "\n",
              "  .colab-df-quickchart:hover {\n",
              "    background-color: var(--hover-bg-color);\n",
              "    box-shadow: 0 1px 2px rgba(60, 64, 67, 0.3), 0 1px 3px 1px rgba(60, 64, 67, 0.15);\n",
              "    fill: var(--button-hover-fill-color);\n",
              "  }\n",
              "\n",
              "  .colab-df-quickchart-complete:disabled,\n",
              "  .colab-df-quickchart-complete:disabled:hover {\n",
              "    background-color: var(--disabled-bg-color);\n",
              "    fill: var(--disabled-fill-color);\n",
              "    box-shadow: none;\n",
              "  }\n",
              "\n",
              "  .colab-df-spinner {\n",
              "    border: 2px solid var(--fill-color);\n",
              "    border-color: transparent;\n",
              "    border-bottom-color: var(--fill-color);\n",
              "    animation:\n",
              "      spin 1s steps(1) infinite;\n",
              "  }\n",
              "\n",
              "  @keyframes spin {\n",
              "    0% {\n",
              "      border-color: transparent;\n",
              "      border-bottom-color: var(--fill-color);\n",
              "      border-left-color: var(--fill-color);\n",
              "    }\n",
              "    20% {\n",
              "      border-color: transparent;\n",
              "      border-left-color: var(--fill-color);\n",
              "      border-top-color: var(--fill-color);\n",
              "    }\n",
              "    30% {\n",
              "      border-color: transparent;\n",
              "      border-left-color: var(--fill-color);\n",
              "      border-top-color: var(--fill-color);\n",
              "      border-right-color: var(--fill-color);\n",
              "    }\n",
              "    40% {\n",
              "      border-color: transparent;\n",
              "      border-right-color: var(--fill-color);\n",
              "      border-top-color: var(--fill-color);\n",
              "    }\n",
              "    60% {\n",
              "      border-color: transparent;\n",
              "      border-right-color: var(--fill-color);\n",
              "    }\n",
              "    80% {\n",
              "      border-color: transparent;\n",
              "      border-right-color: var(--fill-color);\n",
              "      border-bottom-color: var(--fill-color);\n",
              "    }\n",
              "    90% {\n",
              "      border-color: transparent;\n",
              "      border-bottom-color: var(--fill-color);\n",
              "    }\n",
              "  }\n",
              "</style>\n",
              "\n",
              "  <script>\n",
              "    async function quickchart(key) {\n",
              "      const quickchartButtonEl =\n",
              "        document.querySelector('#' + key + ' button');\n",
              "      quickchartButtonEl.disabled = true;  // To prevent multiple clicks.\n",
              "      quickchartButtonEl.classList.add('colab-df-spinner');\n",
              "      try {\n",
              "        const charts = await google.colab.kernel.invokeFunction(\n",
              "            'suggestCharts', [key], {});\n",
              "      } catch (error) {\n",
              "        console.error('Error during call to suggestCharts:', error);\n",
              "      }\n",
              "      quickchartButtonEl.classList.remove('colab-df-spinner');\n",
              "      quickchartButtonEl.classList.add('colab-df-quickchart-complete');\n",
              "    }\n",
              "    (() => {\n",
              "      let quickchartButtonEl =\n",
              "        document.querySelector('#df-0065fec8-aade-427c-8463-1398d0005461 button');\n",
              "      quickchartButtonEl.style.display =\n",
              "        google.colab.kernel.accessAllowed ? 'block' : 'none';\n",
              "    })();\n",
              "  </script>\n",
              "</div>\n",
              "\n",
              "    </div>\n",
              "  </div>\n"
            ],
            "application/vnd.google.colaboratory.intrinsic+json": {
              "type": "dataframe",
              "summary": "{\n  \"name\": \"df\",\n  \"rows\": 8,\n  \"fields\": [\n    {\n      \"column\": \"CO\",\n      \"properties\": {\n        \"dtype\": \"number\",\n        \"std\": 68813.7999082281,\n        \"min\": 0.0,\n        \"max\": 194637.0,\n        \"num_unique_values\": 8,\n        \"samples\": [\n          0.8890143189629925,\n          0.74,\n          194637.0\n        ],\n        \"semantic_type\": \"\",\n        \"description\": \"\"\n      }\n    },\n    {\n      \"column\": \"NO2\",\n      \"properties\": {\n        \"dtype\": \"number\",\n        \"std\": 69339.83473980043,\n        \"min\": 0.01,\n        \"max\": 196210.0,\n        \"num_unique_values\": 8,\n        \"samples\": [\n          26.163869578512816,\n          19.42,\n          196210.0\n        ],\n        \"semantic_type\": \"\",\n        \"description\": \"\"\n      }\n    },\n    {\n      \"column\": \"PM10\",\n      \"properties\": {\n        \"dtype\": \"number\",\n        \"std\": 69059.40187452758,\n        \"min\": 0.17,\n        \"max\": 195548.0,\n        \"num_unique_values\": 8,\n        \"samples\": [\n          126.0965322580645,\n          98.08,\n          195548.0\n        ],\n        \"semantic_type\": \"\",\n        \"description\": \"\"\n      }\n    },\n    {\n      \"column\": \"PM2.5\",\n      \"properties\": {\n        \"dtype\": \"number\",\n        \"std\": 69649.51847578769,\n        \"min\": 0.05,\n        \"max\": 197173.0,\n        \"num_unique_values\": 8,\n        \"samples\": [\n          58.302649500692276,\n          41.68,\n          197173.0\n        ],\n        \"semantic_type\": \"\",\n        \"description\": \"\"\n      }\n    },\n    {\n      \"column\": \"AQI\",\n      \"properties\": {\n        \"dtype\": \"number\",\n        \"std\": null,\n        \"min\": 0.0,\n        \"max\": 0.0,\n        \"num_unique_values\": 1,\n        \"samples\": [\n          0.0\n        ],\n        \"semantic_type\": \"\",\n        \"description\": \"\"\n      }\n    },\n    {\n      \"column\": \"AQI Bucket\",\n      \"properties\": {\n        \"dtype\": \"number\",\n        \"std\": null,\n        \"min\": 0.0,\n        \"max\": 0.0,\n        \"num_unique_values\": 1,\n        \"samples\": [\n          0.0\n        ],\n        \"semantic_type\": \"\",\n        \"description\": \"\"\n      }\n    }\n  ]\n}"
            }
          },
          "metadata": {},
          "execution_count": 3
        }
      ],
      "source": [
        "(df.isnull().sum()/df.shape[0]*100).sort_values(ascending=False)\n",
        "df.describe()"
      ]
    },
    {
      "cell_type": "code",
      "execution_count": null,
      "metadata": {
        "colab": {
          "base_uri": "https://localhost:8080/"
        },
        "id": "94_FzvExnMl0",
        "outputId": "1c8bc5ab-3028-42a4-d314-941a27e1f256"
      },
      "outputs": [
        {
          "output_type": "execute_result",
          "data": {
            "text/plain": [
              "Index(['State', 'City', 'Station', 'From Date', 'To Date', 'Ozone', 'CO',\n",
              "       'SO2', 'NO2', 'PM10', 'PM2.5', 'AQI', 'AQI Bucket'],\n",
              "      dtype='object')"
            ]
          },
          "metadata": {},
          "execution_count": 4
        }
      ],
      "source": [
        "df.columns"
      ]
    },
    {
      "cell_type": "code",
      "execution_count": null,
      "metadata": {
        "colab": {
          "base_uri": "https://localhost:8080/"
        },
        "id": "yQpSBbE3NYi7",
        "outputId": "d9af1430-350b-4da1-e232-d2e9e1caf5a5"
      },
      "outputs": [
        {
          "output_type": "execute_result",
          "data": {
            "text/plain": [
              "State              0\n",
              "City               0\n",
              "Station          505\n",
              "From Date          0\n",
              "To Date            0\n",
              "Ozone              0\n",
              "CO                 0\n",
              "SO2                0\n",
              "NO2                0\n",
              "PM10               0\n",
              "PM2.5              0\n",
              "AQI           207196\n",
              "AQI Bucket    207196\n",
              "dtype: int64"
            ]
          },
          "metadata": {},
          "execution_count": 5
        }
      ],
      "source": [
        "x=(df['PM10'].mean())\n",
        "columns_to_fill = ['Ozone', 'CO', 'SO2', 'NO2', 'PM2.5']\n",
        "df[columns_to_fill] = df[columns_to_fill].apply(pd.to_numeric, errors='coerce')\n",
        "for column in columns_to_fill:\n",
        "    mean_value = df[column].mean()\n",
        "    df[column].fillna(mean_value, inplace=True)\n",
        "df['PM10'].fillna(x,inplace=True)\n",
        "df.isnull().sum()"
      ]
    },
    {
      "cell_type": "code",
      "execution_count": null,
      "metadata": {
        "id": "HrGBmX2gNmvw"
      },
      "outputs": [],
      "source": [
        "def PM10_subindex(x):\n",
        "  if x<=50:\n",
        "    return x\n",
        "  elif x>50 and x<=100:\n",
        "    return x\n",
        "  elif x>100 and x<=250:\n",
        "    return 100+(x-100)*100/150\n",
        "  elif x>250 and x<=350:\n",
        "    return 200+(x-250)\n",
        "  elif x>350 and x<=430:\n",
        "    return 300+(x-350)*100/80\n",
        "  elif x>430:\n",
        "    return 400+(x-430)*100/80\n",
        "  else:\n",
        "    return 0\n",
        "df[\"PM10_Sub\"]=df[\"PM10\"].astype(int).apply(lambda x: PM10_subindex(x))\n",
        "\n",
        "def PM25_subindex(x):\n",
        "    if x <= 30:\n",
        "        return x * 50 / 30\n",
        "    elif x > 30 and x <= 60:\n",
        "        return 50 + (x - 30) * 50 / 30\n",
        "    elif x > 60 and x <= 90:\n",
        "        return 100 + (x - 60) * 100 / 30\n",
        "    elif x > 90 and x <= 120:\n",
        "        return 200 + (x - 90) * 100 / 30\n",
        "    elif x > 120 and x <= 250:\n",
        "        return 300 + (x - 120) * 100 / 130\n",
        "    elif x > 250:\n",
        "        return 400 + (x - 250) * 100 / 130\n",
        "    else:\n",
        "        return 0\n",
        "\n",
        "df[\"PM2.5_Sub\"] = df[\"PM2.5\"].astype(int).apply(lambda x: PM25_subindex(x))\n",
        "\n",
        "\n",
        "# SO2 Sub-Index calculation\n",
        "def SO2_subindex(x):\n",
        "    if x <= 40:\n",
        "        return x * 50 / 40\n",
        "    elif x > 40 and x <= 80:\n",
        "        return 50 + (x - 40) * 50 / 40\n",
        "    elif x > 80 and x <= 380:\n",
        "        return 100 + (x - 80) * 100 / 300\n",
        "    elif x > 380 and x <= 800:\n",
        "        return 200 + (x - 380) * 100 / 420\n",
        "    elif x > 800 and x <= 1600:\n",
        "        return 300 + (x - 800) * 100 / 800\n",
        "    elif x > 1600:\n",
        "        return 400 + (x - 1600) * 100 / 800\n",
        "    else:\n",
        "        return 0\n",
        "\n",
        "df[\"SO2_Sub\"] = df[\"SO2\"].astype(int).apply(lambda x: SO2_subindex(x))\n",
        "\n",
        "# NOx Sub-Index calculation\n",
        "def NO2_subindex(x):\n",
        "    if x <= 40:\n",
        "        return x * 50 / 40\n",
        "    elif x > 40 and x <= 80:\n",
        "        return 50 + (x - 40) * 50 / 40\n",
        "    elif x > 80 and x <= 180:\n",
        "        return 100 + (x - 80) * 100 / 100\n",
        "    elif x > 180 and x <= 280:\n",
        "        return 200 + (x - 180) * 100 / 100\n",
        "    elif x > 280 and x <= 400:\n",
        "        return 300 + (x - 280) * 100 / 120\n",
        "    elif x > 400:\n",
        "        return 400 + (x - 400) * 100 / 120\n",
        "    else:\n",
        "        return 0\n",
        "\n",
        "df[\"NO2_Sub\"] = df[\"NO2\"].astype(int).apply(lambda x: NO2_subindex(x))\n",
        "\n",
        "\n",
        "# CO Sub-Index calculation\n",
        "def get_CO_subindex(x):\n",
        "    if x <= 1:\n",
        "        return x * 50 / 1\n",
        "    elif x > 1 and x <= 2:\n",
        "        return 50 + (x - 1) * 50 / 1\n",
        "    elif x > 2 and x <= 10:\n",
        "        return 100 + (x - 2) * 100 / 8\n",
        "    elif x > 10 and x <= 17:\n",
        "        return 200 + (x - 10) * 100 / 7\n",
        "    elif x > 17 and x <= 34:\n",
        "        return 300 + (x - 17) * 100 / 17\n",
        "    elif x > 34:\n",
        "        return 400 + (x - 34) * 100 / 17\n",
        "    else:\n",
        "        return 0\n",
        "\n",
        "df[\"CO_Sub\"] = df[\"CO\"].astype(int).apply(lambda x: get_CO_subindex(x))\n",
        "\n",
        "# O3 Sub-Index calculation\n",
        "def O3_subindex(x):\n",
        "    if x <= 50:\n",
        "        return x * 50 / 50\n",
        "    elif x > 50 and x <= 100:\n",
        "        return 50 + (x - 50) * 50 / 50\n",
        "    elif x > 100 and x <= 168:\n",
        "        return 100 + (x - 100) * 100 / 68\n",
        "    elif x > 168 and x <= 208:\n",
        "        return 200 + (x - 168) * 100 / 40\n",
        "    elif x > 208 and x <= 748:\n",
        "        return 300 + (x - 208) * 100 / 539\n",
        "    elif x > 748:\n",
        "        return 400 + (x - 400) * 100 / 539\n",
        "    else:\n",
        "        return 0\n",
        "\n",
        "df[\"O3_Sub\"] = df[\"Ozone\"].astype(int).apply(lambda x: O3_subindex(x))\n",
        "\n",
        "df[\"AQI\"] = df[\"AQI\"].fillna(round(df[[\"PM2.5_Sub\", \"PM10_Sub\", \"SO2_Sub\", \"NO2_Sub\", \"CO_Sub\", \"O3_Sub\"]].max(axis = 1)))"
      ]
    },
    {
      "cell_type": "code",
      "execution_count": null,
      "metadata": {
        "colab": {
          "base_uri": "https://localhost:8080/",
          "height": 509
        },
        "id": "hYAtbRu0Nu1L",
        "outputId": "e7eff960-c264-4ca5-9f49-632cf1f8e6d1"
      },
      "outputs": [
        {
          "output_type": "execute_result",
          "data": {
            "text/plain": [
              "<Axes: >"
            ]
          },
          "metadata": {},
          "execution_count": 7
        },
        {
          "output_type": "display_data",
          "data": {
            "text/plain": [
              "<Figure size 640x480 with 1 Axes>"
            ],
            "image/png": "[encoded data removed]"
          },
          "metadata": {}
        }
      ],
      "source": [
        "def get_AQI_bucket(x):\n",
        "    if x <= 50:\n",
        "        return \"Good\"\n",
        "    elif x > 50 and x <= 100:\n",
        "        return \"Satisfactory\"\n",
        "    elif x > 100 and x <= 200:\n",
        "        return \"Moderate\"\n",
        "    elif x > 200 and x <= 300:\n",
        "        return \"Poor\"\n",
        "    elif x > 300 and x <= 400:\n",
        "        return \"Very Poor\"\n",
        "    elif x > 400:\n",
        "        return \"Severe\"\n",
        "    else:\n",
        "        return '0'\n",
        "\n",
        "df[\"AQI Bucket\"] = df[\"AQI Bucket\"].fillna(df[\"AQI\"].apply(lambda x: get_AQI_bucket(x)))\n",
        "sns.heatmap(df.isnull(),yticklabels=False,cbar=False,cmap='viridis')"
      ]
    },
    {
      "cell_type": "code",
      "execution_count": null,
      "metadata": {
        "colab": {
          "base_uri": "https://localhost:8080/",
          "height": 962
        },
        "id": "te1iwr11N0IM",
        "outputId": "72c24c5f-03c2-4498-939f-19e46b2e63b7"
      },
      "outputs": [
        {
          "output_type": "display_data",
          "data": {
            "text/plain": [
              "<Figure size 3000x2000 with 1 Axes>"
            ],
            "image/png": "[encoded data removed]"
          },
          "metadata": {}
        }
      ],
      "source": [
        "mean_aqi_by_state = df.groupby('State')['AQI'].mean().sort_values()\n",
        "ax = mean_aqi_by_state.plot(kind='bar', cmap='Blues_r', figsize=(30, 20))\n",
        "for i, v in enumerate(mean_aqi_by_state):\n",
        "    ax.text(i, v + 0.5, str(round(v, 2)), ha='center', va='bottom', fontweight='bold')\n",
        "plt.xticks(fontweight='bold')\n",
        "plt.yticks(fontweight='bold')\n",
        "plt.title('Average AQI by State in Last 5 Years')\n",
        "plt.xlabel('State')\n",
        "plt.ylabel('Average AQI')\n",
        "\n",
        "plt.show()"
      ]
    },
    {
      "cell_type": "code",
      "execution_count": null,
      "metadata": {
        "id": "pGsM0UzfOAvZ"
      },
      "outputs": [],
      "source": [
        "features=df[[ 'Ozone', 'CO',\n",
        "       'SO2', 'NO2', 'PM10', 'PM2.5']]\n",
        "labels=df['AQI']\n",
        "# import pandas as pd\n",
        "# import numpy as np\n",
        "# from sklearn.model_selection import train_test_split\n",
        "# from sklearn.preprocessing import LabelEncoder, StandardScaler\n",
        "# from tensorflow.keras.models import Sequential\n",
        "# from tensorflow.keras.layers import Dense, Dropout\n",
        "# from tensorflow.keras.utils import to_categorical\n",
        "# features = df[['Ozone', 'CO', 'SO2', 'NO2', 'PM10', 'PM2.5']]\n",
        "# labels = df['AQI Bucket']"
      ]
    },
    {
      "cell_type": "code",
      "execution_count": null,
      "metadata": {
        "id": "n095DYnToOlL"
      },
      "outputs": [],
      "source": [
        "# from sklearn.preprocessing import StandardScaler, LabelEncoder\n",
        "# import tensorflow as tf\n",
        "# scaler = StandardScaler()\n",
        "# X_scaled = scaler.fit_transform(features)\n",
        "# label_encoder = LabelEncoder()\n",
        "# y_encoded = label_encoder.fit_transform(labels)\n",
        "# X_train, X_test, y_train, y_test = train_test_split(X_scaled, y_encoded, test_size=0.2, random_state=42)\n",
        "# y_train_one_hot = tf.keras.utils.to_categorical(y_train)\n",
        "# y_test_one_hot = tf.keras.utils.to_categorical(y_test)"
      ]
    },
    {
      "cell_type": "code",
      "execution_count": null,
      "metadata": {
        "id": "A8siFD-spPc7"
      },
      "outputs": [],
      "source": [
        "# #MLP\n",
        "# def build_mlp(input_shape, num_classes):\n",
        "#     model = tf.keras.Sequential([\n",
        "#         tf.keras.layers.Dense(64, input_shape=input_shape, activation='relu'),\n",
        "#         tf.keras.layers.Dense(32, activation='relu'),\n",
        "#         tf.keras.layers.Dense(num_classes, activation='softmax')\n",
        "#     ])\n",
        "#     return model\n",
        "\n",
        "# mlp_model = build_mlp((X_train.shape[1],), y_train_one_hot.shape[1])\n",
        "# mlp_model.compile(optimizer='adam', loss='categorical_crossentropy', metrics=['accuracy'])\n",
        "# mlp_model.fit(X_train, y_train_one_hot, epochs=50, batch_size=32, validation_split=0.2)\n",
        "# mlp_loss, mlp_accuracy = mlp_model.evaluate(X_test, y_test_one_hot)\n",
        "# print(f\"MLP Test Accuracy: {mlp_accuracy}\")"
      ]
    },
    {
      "cell_type": "code",
      "execution_count": null,
      "metadata": {
        "id": "SM_FD6Gbzp8U"
      },
      "outputs": [],
      "source": [
        "# from sklearn.metrics import accuracy_score\n",
        "# y_pred_mlp= mlp_model.predict(X_test)\n",
        "# y_pred_mlp_acc = tf.argmax(y_pred_mlp, axis=1).numpy()\n",
        "# mlp_accuracy=accuracy_score(y_test,y_pred_mlp_acc)\n",
        "# print(mlp_accuracy)"
      ]
    },
    {
      "cell_type": "code",
      "execution_count": null,
      "metadata": {
        "id": "WLy6xAdOtN5j"
      },
      "outputs": [],
      "source": [
        "# #CNN\n",
        "# import numpy as np\n",
        "# X_train_cnn = X_train.reshape(X_train.shape[0], X_train.shape[1], 1)\n",
        "# X_test_cnn = X_test.reshape(X_test.shape[0], X_test.shape[1], 1)\n",
        "\n",
        "# def build_cnn(input_shape, num_classes):\n",
        "#     model = tf.keras.Sequential([\n",
        "#         tf.keras.layers.Conv1D(32, kernel_size=2, activation='relu', input_shape=input_shape),\n",
        "#         tf.keras.layers.MaxPooling1D(pool_size=2),\n",
        "#         tf.keras.layers.Flatten(),\n",
        "#         tf.keras.layers.Dense(64, activation='relu'),\n",
        "#         tf.keras.layers.Dense(num_classes, activation='softmax')\n",
        "#     ])\n",
        "#     return model\n",
        "\n",
        "# cnn_model = build_cnn((X_train_cnn.shape[1], 1), y_train_one_hot.shape[1])\n",
        "# cnn_model.compile(optimizer='adam', loss='categorical_crossentropy', metrics=['accuracy'])\n",
        "# cnn_model.fit(X_train_cnn, y_train_one_hot, epochs=50, batch_size=32, validation_split=0.2)\n",
        "# cnn_loss, cnn_accuracy = cnn_model.evaluate(X_test_cnn, y_test_one_hot)\n",
        "# print(f\"CNN Test Accuracy: {cnn_accuracy}\")"
      ]
    },
    {
      "cell_type": "code",
      "execution_count": null,
      "metadata": {
        "id": "f5xNz7_A0YLG"
      },
      "outputs": [],
      "source": [
        "# from sklearn.metrics import accuracy_score\n",
        "# y_pred_cnn= cnn_model.predict(X_test)\n",
        "# y_pred_cnn_acc = tf.argmax(y_pred_mlp, axis=1).numpy()\n",
        "# cnn_accuracy=accuracy_score(y_test,y_pred_cnn_acc)\n",
        "# print(mlp_accuracy)"
      ]
    },
    {
      "cell_type": "code",
      "execution_count": null,
      "metadata": {
        "id": "-qXkF_n0v-a9"
      },
      "outputs": [],
      "source": [
        "# # Reshape the data for RNN\n",
        "# X_train_rnn = X_train.reshape(X_train.shape[0], X_train.shape[1], 1)\n",
        "# X_test_rnn = X_test.reshape(X_test.shape[0], X_test.shape[1], 1)\n",
        "\n",
        "# def build_rnn(input_shape, num_classes):\n",
        "#     model = tf.keras.Sequential([\n",
        "#         tf.keras.layers.SimpleRNN(50, activation='relu', input_shape=input_shape),\n",
        "#         tf.keras.layers.Dense(32, activation='relu'),\n",
        "#         tf.keras.layers.Dense(num_classes, activation='softmax')\n",
        "#     ])\n",
        "#     return model\n",
        "\n",
        "# rnn_model = build_rnn((X_train_rnn.shape[1], 1), y_train_one_hot.shape[1])\n",
        "# rnn_model.compile(optimizer='adam', loss='categorical_crossentropy', metrics=['accuracy'])\n",
        "# rnn_model.fit(X_train_rnn, y_train_one_hot, epochs=50, batch_size=32, validation_split=0.2)\n",
        "# rnn_loss, rnn_accuracy = rnn_model.evaluate(X_test_rnn, y_test_one_hot)\n",
        "# print(f\"RNN Test Accuracy: {rnn_accuracy}\")\n"
      ]
    },
    {
      "cell_type": "markdown",
      "metadata": {
        "id": "tzsYXosOpTS-"
      },
      "source": [
        "\n",
        "\n",
        "---\n",
        "\n",
        "\n",
        "\n",
        "---\n",
        "\n",
        "\n",
        "\n",
        "---\n",
        "\n",
        "\n",
        "\n",
        "---\n",
        "\n",
        "\n",
        "\n",
        "---\n",
        "\n"
      ]
    },
    {
      "cell_type": "code",
      "execution_count": null,
      "metadata": {
        "id": "bXpLAuP5OJnA"
      },
      "outputs": [],
      "source": [
        "from sklearn.model_selection import train_test_split\n",
        "X_train,X_test,y_train,y_test=train_test_split(features,labels,random_state=99)\n",
        "from sklearn.preprocessing import StandardScaler"
      ]
    },
    {
      "cell_type": "code",
      "execution_count": null,
      "metadata": {
        "id": "qNdpqngIS-pH"
      },
      "outputs": [],
      "source": [
        "# features = df[['Ozone', 'CO', 'SO2', 'NO2', 'PM10', 'PM2.5']].values\n",
        "# labels = df['AQI'].values"
      ]
    },
    {
      "cell_type": "code",
      "execution_count": null,
      "metadata": {
        "id": "CEN6H_6tTBbD"
      },
      "outputs": [],
      "source": [
        "# scaler = StandardScaler()\n",
        "# features_scaled = scaler.fit_transform(features)"
      ]
    },
    {
      "cell_type": "code",
      "execution_count": null,
      "metadata": {
        "id": "rj3zD4yqTCyM"
      },
      "outputs": [],
      "source": [
        "X_train, X_val, y_train, y_val = train_test_split(features, labels, test_size=0.2, random_state=42)"
      ]
    },
    {
      "cell_type": "code",
      "execution_count": null,
      "metadata": {
        "id": "4yPZGz1_pIra"
      },
      "outputs": [],
      "source": [
        "scaler = StandardScaler()\n",
        "X_train_scaled = scaler.fit_transform(X_train)\n",
        "X_test_scaled = scaler.transform(X_test)"
      ]
    },
    {
      "cell_type": "code",
      "execution_count": null,
      "metadata": {
        "colab": {
          "base_uri": "https://localhost:8080/"
        },
        "id": "JcjTRUQMrWXK",
        "outputId": "c9c08072-aa1c-47dd-d461-6bae9d98d2d5"
      },
      "outputs": [
        {
          "output_type": "stream",
          "name": "stdout",
          "text": [
            "Epoch 1/50\n",
            "4144/4144 [==============================] - 11s 2ms/step - loss: 1655.7896 - val_loss: 386.2449\n",
            "Epoch 2/50\n",
            "4144/4144 [==============================] - 10s 2ms/step - loss: 238.5515 - val_loss: 82.6771\n",
            "Epoch 3/50\n",
            "4144/4144 [==============================] - 8s 2ms/step - loss: 43.4714 - val_loss: 29.2124\n",
            "Epoch 4/50\n",
            "4144/4144 [==============================] - 10s 2ms/step - loss: 23.2510 - val_loss: 20.2971\n",
            "Epoch 5/50\n",
            "4144/4144 [==============================] - 10s 2ms/step - loss: 18.1231 - val_loss: 15.6941\n",
            "Epoch 6/50\n",
            "4144/4144 [==============================] - 9s 2ms/step - loss: 15.4389 - val_loss: 14.6559\n",
            "Epoch 7/50\n",
            "4144/4144 [==============================] - 11s 3ms/step - loss: 13.7874 - val_loss: 12.5858\n",
            "Epoch 8/50\n",
            "4144/4144 [==============================] - 9s 2ms/step - loss: 12.6315 - val_loss: 14.3758\n",
            "Epoch 9/50\n",
            "4144/4144 [==============================] - 8s 2ms/step - loss: 11.8139 - val_loss: 11.2696\n",
            "Epoch 10/50\n",
            "4144/4144 [==============================] - 10s 2ms/step - loss: 11.1961 - val_loss: 13.5293\n",
            "Epoch 11/50\n",
            "4144/4144 [==============================] - 11s 3ms/step - loss: 10.6435 - val_loss: 10.7815\n",
            "Epoch 12/50\n",
            "4144/4144 [==============================] - 9s 2ms/step - loss: 10.2734 - val_loss: 10.3261\n",
            "Epoch 13/50\n",
            "4144/4144 [==============================] - 10s 2ms/step - loss: 9.8402 - val_loss: 10.6178\n",
            "Epoch 14/50\n",
            "4144/4144 [==============================] - 8s 2ms/step - loss: 9.6107 - val_loss: 9.6638\n",
            "Epoch 15/50\n",
            "4144/4144 [==============================] - 10s 2ms/step - loss: 9.4308 - val_loss: 8.8788\n",
            "Epoch 16/50\n",
            "4144/4144 [==============================] - 11s 3ms/step - loss: 9.0976 - val_loss: 8.1969\n",
            "Epoch 17/50\n",
            "4144/4144 [==============================] - 9s 2ms/step - loss: 8.9373 - val_loss: 7.7508\n",
            "Epoch 18/50\n",
            "4144/4144 [==============================] - 10s 2ms/step - loss: 8.6204 - val_loss: 8.5876\n",
            "Epoch 19/50\n",
            "4144/4144 [==============================] - 12s 3ms/step - loss: 8.4697 - val_loss: 7.6741\n",
            "Epoch 20/50\n",
            "4144/4144 [==============================] - 8s 2ms/step - loss: 8.2379 - val_loss: 7.2042\n",
            "Epoch 21/50\n",
            "4144/4144 [==============================] - 10s 2ms/step - loss: 8.0489 - val_loss: 7.6757\n",
            "Epoch 22/50\n",
            "4144/4144 [==============================] - 15s 4ms/step - loss: 7.9451 - val_loss: 7.5220\n",
            "Epoch 23/50\n",
            "4144/4144 [==============================] - 10s 2ms/step - loss: 7.6883 - val_loss: 7.3574\n",
            "Epoch 24/50\n",
            "4144/4144 [==============================] - 9s 2ms/step - loss: 7.6376 - val_loss: 7.2211\n",
            "Epoch 25/50\n",
            "4144/4144 [==============================] - 10s 2ms/step - loss: 7.4900 - val_loss: 8.0514\n",
            "Epoch 26/50\n",
            "4144/4144 [==============================] - 10s 2ms/step - loss: 7.4884 - val_loss: 6.7010\n",
            "Epoch 27/50\n",
            "4144/4144 [==============================] - 10s 2ms/step - loss: 7.2852 - val_loss: 6.4777\n",
            "Epoch 28/50\n",
            "4144/4144 [==============================] - 10s 2ms/step - loss: 7.1293 - val_loss: 6.4650\n",
            "Epoch 29/50\n",
            "4144/4144 [==============================] - 8s 2ms/step - loss: 7.0353 - val_loss: 10.1236\n",
            "Epoch 30/50\n",
            "4144/4144 [==============================] - 10s 2ms/step - loss: 7.0183 - val_loss: 6.6785\n",
            "Epoch 31/50\n",
            "4144/4144 [==============================] - 9s 2ms/step - loss: 6.8256 - val_loss: 6.3140\n",
            "Epoch 32/50\n",
            "4144/4144 [==============================] - 9s 2ms/step - loss: 6.7329 - val_loss: 7.4491\n",
            "Epoch 33/50\n",
            "4144/4144 [==============================] - 10s 2ms/step - loss: 6.7214 - val_loss: 7.3429\n",
            "Epoch 34/50\n",
            "4144/4144 [==============================] - 8s 2ms/step - loss: 6.4660 - val_loss: 8.0462\n",
            "Epoch 35/50\n",
            "4144/4144 [==============================] - 12s 3ms/step - loss: 6.5784 - val_loss: 5.7783\n",
            "Epoch 36/50\n",
            "4144/4144 [==============================] - 9s 2ms/step - loss: 6.3171 - val_loss: 6.0816\n",
            "Epoch 37/50\n",
            "4144/4144 [==============================] - 9s 2ms/step - loss: 6.3960 - val_loss: 6.5878\n",
            "Epoch 38/50\n",
            "4144/4144 [==============================] - 10s 2ms/step - loss: 6.2710 - val_loss: 7.9008\n",
            "Epoch 39/50\n",
            "4144/4144 [==============================] - 8s 2ms/step - loss: 6.1215 - val_loss: 6.1684\n",
            "Epoch 40/50\n",
            "4144/4144 [==============================] - 10s 2ms/step - loss: 6.0654 - val_loss: 7.0834\n",
            "Epoch 41/50\n",
            "4144/4144 [==============================] - 10s 2ms/step - loss: 6.0040 - val_loss: 5.6429\n",
            "Epoch 42/50\n",
            "4144/4144 [==============================] - 8s 2ms/step - loss: 5.9579 - val_loss: 5.4266\n",
            "Epoch 43/50\n",
            "4144/4144 [==============================] - 12s 3ms/step - loss: 5.8871 - val_loss: 6.6047\n",
            "Epoch 44/50\n",
            "4144/4144 [==============================] - 10s 2ms/step - loss: 5.8014 - val_loss: 5.3249\n",
            "Epoch 45/50\n",
            "4144/4144 [==============================] - 9s 2ms/step - loss: 5.7925 - val_loss: 5.8112\n",
            "Epoch 46/50\n",
            "4144/4144 [==============================] - 12s 3ms/step - loss: 5.7306 - val_loss: 5.4027\n",
            "Epoch 47/50\n",
            "4144/4144 [==============================] - 11s 3ms/step - loss: 5.6463 - val_loss: 4.9655\n",
            "Epoch 48/50\n",
            "4144/4144 [==============================] - 8s 2ms/step - loss: 5.6099 - val_loss: 5.0506\n",
            "Epoch 49/50\n",
            "4144/4144 [==============================] - 10s 3ms/step - loss: 5.5480 - val_loss: 5.2246\n",
            "Epoch 50/50\n",
            "4144/4144 [==============================] - 9s 2ms/step - loss: 5.4531 - val_loss: 5.7821\n",
            "1619/1619 [==============================] - 3s 2ms/step - loss: 5.4053\n",
            "Test Loss: 5.405298233032227\n",
            "1619/1619 [==============================] - 2s 1ms/step\n",
            "Mean Squared Error: 5.405298643834181\n",
            "Mean Squared Error: 1.3986544244899126\n",
            "R-squared: 0.9994457123211282\n"
          ]
        }
      ],
      "source": [
        "#Feed foreward\n",
        "from sklearn.metrics import mean_squared_error, r2_score\n",
        "from tensorflow.keras.models import Sequential\n",
        "from tensorflow.keras.layers import Dense\n",
        "modelff = Sequential()\n",
        "modelff.add(Dense(64, input_dim=X_train_scaled.shape[1], activation='relu'))\n",
        "modelff.add(Dense(32, activation='relu'))\n",
        "modelff.add(Dense(1))\n",
        "modelff.compile(optimizer='adam', loss='mean_squared_error')\n",
        "modelff.fit(X_train_scaled, y_train, epochs=50, batch_size=32, validation_split=0.2)\n",
        "loss = modelff.evaluate(X_test_scaled, y_test)\n",
        "print(f'Test Loss: {loss}')\n",
        "predictions = modelff.predict(X_test_scaled)\n",
        "mse_ff = mean_squared_error(y_test, predictions)\n",
        "mae_ff = mean_absolute_error(y_test, predictions)\n",
        "r2_ff = r2_score(y_test, predictions)\n",
        "print(f'Mean Squared Error: {mse_ff}')\n",
        "print(f'Mean Squared Error: {mae_ff}')\n",
        "print(f'R-squared: {r2_ff}')"
      ]
    },
    {
      "cell_type": "code",
      "execution_count": null,
      "metadata": {
        "colab": {
          "base_uri": "https://localhost:8080/"
        },
        "id": "7vwwxA4_uAsT",
        "outputId": "093f3cff-2475-460d-fe91-aeec36ac4d5d"
      },
      "outputs": [
        {
          "output_type": "execute_result",
          "data": {
            "text/plain": [
              "array([[-0.73305713,  0.15773942, -0.87257234,  0.41861479,  0.52729656,\n",
              "         0.41796111],\n",
              "       [-0.22314683,  0.59758235, -0.75548259, -0.05204079, -0.66738799,\n",
              "        -0.7449667 ],\n",
              "       [-0.12680882,  0.01636133,  0.2608259 ,  0.172158  , -0.61663202,\n",
              "        -0.32833319],\n",
              "       ...,\n",
              "       [-0.32289074, -0.23497749, -0.41110095, -0.06903781, -0.90016167,\n",
              "        -0.73376279],\n",
              "       [ 1.46033562,  0.99029926,  1.33223544,  0.95968659,  1.47012062,\n",
              "         1.16615438],\n",
              "       [-0.70970246, -0.69052911, -0.3230923 , -0.58704222, -0.20312018,\n",
              "        -0.2394615 ]])"
            ]
          },
          "metadata": {},
          "execution_count": 15
        }
      ],
      "source": [
        "X_train_scaled\n",
        "X_test_scaled"
      ]
    },
    {
      "cell_type": "code",
      "execution_count": null,
      "metadata": {
        "colab": {
          "base_uri": "https://localhost:8080/"
        },
        "id": "66Fz16bSvaBS",
        "outputId": "1ea029cc-58ba-40cb-9492-387abfb89229"
      },
      "outputs": [
        {
          "output_type": "stream",
          "name": "stdout",
          "text": [
            "Epoch 1/50\n",
            "4144/4144 [==============================] - 13s 3ms/step - loss: 1354.6079 - val_loss: 401.8248\n",
            "Epoch 2/50\n",
            "4144/4144 [==============================] - 11s 3ms/step - loss: 361.9942 - val_loss: 352.5363\n",
            "Epoch 3/50\n",
            "4144/4144 [==============================] - 9s 2ms/step - loss: 327.4060 - val_loss: 360.4702\n",
            "Epoch 4/50\n",
            "4144/4144 [==============================] - 11s 3ms/step - loss: 305.5833 - val_loss: 313.1043\n",
            "Epoch 5/50\n",
            "4144/4144 [==============================] - 11s 3ms/step - loss: 288.4583 - val_loss: 305.8203\n",
            "Epoch 6/50\n",
            "4144/4144 [==============================] - 12s 3ms/step - loss: 276.0689 - val_loss: 282.4654\n",
            "Epoch 7/50\n",
            "4144/4144 [==============================] - 10s 2ms/step - loss: 268.0673 - val_loss: 280.7375\n",
            "Epoch 8/50\n",
            "4144/4144 [==============================] - 11s 3ms/step - loss: 260.7592 - val_loss: 268.8610\n",
            "Epoch 9/50\n",
            "4144/4144 [==============================] - 11s 3ms/step - loss: 251.1254 - val_loss: 247.1310\n",
            "Epoch 10/50\n",
            "4144/4144 [==============================] - 9s 2ms/step - loss: 234.5548 - val_loss: 237.6107\n",
            "Epoch 11/50\n",
            "4144/4144 [==============================] - 13s 3ms/step - loss: 225.4366 - val_loss: 224.3614\n",
            "Epoch 12/50\n",
            "4144/4144 [==============================] - 11s 3ms/step - loss: 218.8934 - val_loss: 220.3228\n",
            "Epoch 13/50\n",
            "4144/4144 [==============================] - 14s 3ms/step - loss: 214.2368 - val_loss: 219.1521\n",
            "Epoch 14/50\n",
            "4144/4144 [==============================] - 9s 2ms/step - loss: 209.4804 - val_loss: 209.8517\n",
            "Epoch 15/50\n",
            "4144/4144 [==============================] - 11s 3ms/step - loss: 200.6341 - val_loss: 195.6812\n",
            "Epoch 16/50\n",
            "4144/4144 [==============================] - 11s 3ms/step - loss: 188.0453 - val_loss: 182.7424\n",
            "Epoch 17/50\n",
            "4144/4144 [==============================] - 11s 3ms/step - loss: 174.1285 - val_loss: 173.2724\n",
            "Epoch 18/50\n",
            "4144/4144 [==============================] - 11s 3ms/step - loss: 164.5761 - val_loss: 180.3231\n",
            "Epoch 19/50\n",
            "4144/4144 [==============================] - 11s 3ms/step - loss: 156.5353 - val_loss: 157.9134\n",
            "Epoch 20/50\n",
            "4144/4144 [==============================] - 13s 3ms/step - loss: 149.5376 - val_loss: 145.3846\n",
            "Epoch 21/50\n",
            "4144/4144 [==============================] - 9s 2ms/step - loss: 141.5086 - val_loss: 205.3765\n",
            "Epoch 22/50\n",
            "4144/4144 [==============================] - 12s 3ms/step - loss: 136.1146 - val_loss: 141.5456\n",
            "Epoch 23/50\n",
            "4144/4144 [==============================] - 11s 3ms/step - loss: 129.4230 - val_loss: 128.1277\n",
            "Epoch 24/50\n",
            "4144/4144 [==============================] - 11s 3ms/step - loss: 122.7752 - val_loss: 118.3252\n",
            "Epoch 25/50\n",
            "4144/4144 [==============================] - 11s 3ms/step - loss: 117.4391 - val_loss: 119.9802\n",
            "Epoch 26/50\n",
            "4144/4144 [==============================] - 11s 3ms/step - loss: 112.0903 - val_loss: 105.3846\n",
            "Epoch 27/50\n",
            "4144/4144 [==============================] - 13s 3ms/step - loss: 106.9747 - val_loss: 104.6653\n",
            "Epoch 28/50\n",
            "4144/4144 [==============================] - 10s 3ms/step - loss: 102.3428 - val_loss: 104.3158\n",
            "Epoch 29/50\n",
            "4144/4144 [==============================] - 12s 3ms/step - loss: 99.3765 - val_loss: 98.2337\n",
            "Epoch 30/50\n",
            "4144/4144 [==============================] - 12s 3ms/step - loss: 96.1496 - val_loss: 93.3764\n",
            "Epoch 31/50\n",
            "4144/4144 [==============================] - 11s 3ms/step - loss: 92.6443 - val_loss: 88.4082\n",
            "Epoch 32/50\n",
            "4144/4144 [==============================] - 11s 3ms/step - loss: 89.5167 - val_loss: 92.0843\n",
            "Epoch 33/50\n",
            "4144/4144 [==============================] - 9s 2ms/step - loss: 86.1816 - val_loss: 95.1666\n",
            "Epoch 34/50\n",
            "4144/4144 [==============================] - 13s 3ms/step - loss: 83.6664 - val_loss: 89.3434\n",
            "Epoch 35/50\n",
            "4144/4144 [==============================] - 11s 3ms/step - loss: 80.7104 - val_loss: 79.9122\n",
            "Epoch 36/50\n",
            "4144/4144 [==============================] - 10s 3ms/step - loss: 79.7121 - val_loss: 83.5633\n",
            "Epoch 37/50\n",
            "4144/4144 [==============================] - 10s 2ms/step - loss: 77.6248 - val_loss: 78.1018\n",
            "Epoch 38/50\n",
            "4144/4144 [==============================] - 11s 3ms/step - loss: 75.4195 - val_loss: 85.4297\n",
            "Epoch 39/50\n",
            "4144/4144 [==============================] - 11s 3ms/step - loss: 75.0310 - val_loss: 73.6539\n",
            "Epoch 40/50\n",
            "4144/4144 [==============================] - 9s 2ms/step - loss: 72.0810 - val_loss: 83.7556\n",
            "Epoch 41/50\n",
            "4144/4144 [==============================] - 13s 3ms/step - loss: 72.1560 - val_loss: 72.7528\n",
            "Epoch 42/50\n",
            "4144/4144 [==============================] - 11s 3ms/step - loss: 70.5151 - val_loss: 72.1890\n",
            "Epoch 43/50\n",
            "4144/4144 [==============================] - 11s 3ms/step - loss: 68.7178 - val_loss: 70.1041\n",
            "Epoch 44/50\n",
            "4144/4144 [==============================] - 9s 2ms/step - loss: 67.6068 - val_loss: 70.4869\n",
            "Epoch 45/50\n",
            "4144/4144 [==============================] - 11s 3ms/step - loss: 66.5744 - val_loss: 66.7350\n",
            "Epoch 46/50\n",
            "4144/4144 [==============================] - 11s 3ms/step - loss: 64.7680 - val_loss: 64.5129\n",
            "Epoch 47/50\n",
            "4144/4144 [==============================] - 11s 3ms/step - loss: 64.9447 - val_loss: 63.9710\n",
            "Epoch 48/50\n",
            "4144/4144 [==============================] - 12s 3ms/step - loss: 63.2345 - val_loss: 65.7887\n",
            "Epoch 49/50\n",
            "4144/4144 [==============================] - 12s 3ms/step - loss: 62.3975 - val_loss: 69.3648\n",
            "Epoch 50/50\n",
            "4144/4144 [==============================] - 11s 3ms/step - loss: 61.5982 - val_loss: 86.5140\n",
            "1619/1619 [==============================] - 2s 1ms/step\n",
            "Mean Squared Error (MSE): 80.76645588124761\n",
            "Mean Absolute Error (MAE): 6.10192089354767\n",
            "R-squared (R2): 0.9917177839170491\n"
          ]
        }
      ],
      "source": [
        "#CNN\n",
        "from tensorflow import keras\n",
        "from tensorflow.keras.models import Sequential\n",
        "from tensorflow.keras.layers import Conv1D, MaxPooling1D, Flatten, Dense\n",
        "from sklearn.metrics import mean_squared_error, mean_absolute_error, r2_score\n",
        "\n",
        "X_train_reshaped = X_train_scaled.reshape((X_train_scaled.shape[0], X_train_scaled.shape[1], 1))\n",
        "X_test_reshaped = X_test_scaled.reshape((X_test_scaled.shape[0], X_test_scaled.shape[1], 1))\n",
        "\n",
        "modelcn = Sequential()\n",
        "modelcn.add(Conv1D(filters=64, kernel_size=3, activation='relu', input_shape=(X_train.shape[1], 1)))\n",
        "modelcn.add(MaxPooling1D(pool_size=2))\n",
        "modelcn.add(Flatten())\n",
        "modelcn.add(Dense(64, activation='relu'))\n",
        "modelcn.add(Dense(1))\n",
        "modelcn.compile(optimizer='adam', loss='mean_squared_error')\n",
        "modelcn.fit(X_train_reshaped, y_train, epochs=50, batch_size=32, validation_split=0.2)\n",
        "\n",
        "predictions = modelcn.predict(X_test_reshaped)\n",
        "mse_cnn = mean_squared_error(y_test, predictions)\n",
        "mae_cnn = mean_absolute_error(y_test, predictions)\n",
        "r2_cnn = r2_score(y_test, predictions)\n",
        "\n",
        "print(f'Mean Squared Error (MSE): {mse_cnn}')\n",
        "print(f'Mean Absolute Error (MAE): {mae_cnn}')\n",
        "print(f'R-squared (R2): {r2_cnn}')\n"
      ]
    },
    {
      "cell_type": "code",
      "execution_count": null,
      "metadata": {
        "colab": {
          "base_uri": "https://localhost:8080/"
        },
        "id": "QCCdzQLQvoWl",
        "outputId": "ed79f350-7ec5-4022-9532-b1a6e71e3284"
      },
      "outputs": [
        {
          "output_type": "stream",
          "name": "stdout",
          "text": [
            "Epoch 1/50\n",
            "4144/4144 [==============================] - 28s 6ms/step - loss: 12720.3145 - val_loss: 6172.2275\n",
            "Epoch 2/50\n",
            "4144/4144 [==============================] - 29s 7ms/step - loss: 3092.8555 - val_loss: 1460.3621\n",
            "Epoch 3/50\n",
            "4144/4144 [==============================] - 24s 6ms/step - loss: 807.2780 - val_loss: 538.0009\n",
            "Epoch 4/50\n",
            "4144/4144 [==============================] - 32s 8ms/step - loss: 370.2974 - val_loss: 312.3401\n",
            "Epoch 5/50\n",
            "4144/4144 [==============================] - 27s 7ms/step - loss: 212.9207 - val_loss: 200.8534\n",
            "Epoch 6/50\n",
            "4144/4144 [==============================] - 27s 7ms/step - loss: 135.7575 - val_loss: 143.3351\n",
            "Epoch 7/50\n",
            "4144/4144 [==============================] - 24s 6ms/step - loss: 94.8287 - val_loss: 113.7756\n",
            "Epoch 8/50\n",
            "4144/4144 [==============================] - 27s 6ms/step - loss: 70.9382 - val_loss: 89.8614\n",
            "Epoch 9/50\n",
            "4144/4144 [==============================] - 26s 6ms/step - loss: 55.9281 - val_loss: 82.0529\n",
            "Epoch 10/50\n",
            "4144/4144 [==============================] - 24s 6ms/step - loss: 46.2043 - val_loss: 68.4516\n",
            "Epoch 11/50\n",
            "4144/4144 [==============================] - 27s 7ms/step - loss: 39.4869 - val_loss: 61.2615\n",
            "Epoch 12/50\n",
            "4144/4144 [==============================] - 24s 6ms/step - loss: 34.2806 - val_loss: 55.7456\n",
            "Epoch 13/50\n",
            "4144/4144 [==============================] - 24s 6ms/step - loss: 30.1189 - val_loss: 51.3383\n",
            "Epoch 14/50\n",
            "4144/4144 [==============================] - 29s 7ms/step - loss: 26.8940 - val_loss: 47.0892\n",
            "Epoch 15/50\n",
            "4144/4144 [==============================] - 24s 6ms/step - loss: 24.4751 - val_loss: 43.0099\n",
            "Epoch 16/50\n",
            "4144/4144 [==============================] - 24s 6ms/step - loss: 22.2751 - val_loss: 40.8824\n",
            "Epoch 17/50\n",
            "4144/4144 [==============================] - 28s 7ms/step - loss: 20.1460 - val_loss: 39.0649\n",
            "Epoch 18/50\n",
            "4144/4144 [==============================] - 24s 6ms/step - loss: 18.4564 - val_loss: 37.4829\n",
            "Epoch 19/50\n",
            "4144/4144 [==============================] - 25s 6ms/step - loss: 16.9952 - val_loss: 33.2169\n",
            "Epoch 20/50\n",
            "4144/4144 [==============================] - 25s 6ms/step - loss: 15.5178 - val_loss: 31.3572\n",
            "Epoch 21/50\n",
            "4144/4144 [==============================] - 25s 6ms/step - loss: 14.4681 - val_loss: 28.6604\n",
            "Epoch 22/50\n",
            "4144/4144 [==============================] - 25s 6ms/step - loss: 13.4094 - val_loss: 27.6609\n",
            "Epoch 23/50\n",
            "4144/4144 [==============================] - 25s 6ms/step - loss: 12.4539 - val_loss: 26.0171\n",
            "Epoch 24/50\n",
            "4144/4144 [==============================] - 26s 6ms/step - loss: 11.7325 - val_loss: 25.2157\n",
            "Epoch 25/50\n",
            "4144/4144 [==============================] - 26s 6ms/step - loss: 11.1662 - val_loss: 25.2790\n",
            "Epoch 26/50\n",
            "4144/4144 [==============================] - 25s 6ms/step - loss: 10.4597 - val_loss: 22.5561\n",
            "Epoch 27/50\n",
            "4144/4144 [==============================] - 26s 6ms/step - loss: 9.9494 - val_loss: 22.1050\n",
            "Epoch 28/50\n",
            "4144/4144 [==============================] - 25s 6ms/step - loss: 9.4819 - val_loss: 23.6744\n",
            "Epoch 29/50\n",
            "4144/4144 [==============================] - 24s 6ms/step - loss: 8.8609 - val_loss: 19.2154\n",
            "Epoch 30/50\n",
            "4144/4144 [==============================] - 27s 7ms/step - loss: 8.6135 - val_loss: 18.8502\n",
            "Epoch 31/50\n",
            "4144/4144 [==============================] - 25s 6ms/step - loss: 8.0650 - val_loss: 18.1086\n",
            "Epoch 32/50\n",
            "4144/4144 [==============================] - 23s 6ms/step - loss: 7.8427 - val_loss: 17.5278\n",
            "Epoch 33/50\n",
            "4144/4144 [==============================] - 27s 7ms/step - loss: 7.5204 - val_loss: 15.6199\n",
            "Epoch 34/50\n",
            "4144/4144 [==============================] - 25s 6ms/step - loss: 7.3748 - val_loss: 15.6680\n",
            "Epoch 35/50\n",
            "4144/4144 [==============================] - 24s 6ms/step - loss: 6.9959 - val_loss: 14.7397\n",
            "Epoch 36/50\n",
            "4144/4144 [==============================] - 25s 6ms/step - loss: 6.7681 - val_loss: 15.3570\n",
            "Epoch 37/50\n",
            "4144/4144 [==============================] - 29s 7ms/step - loss: 6.5468 - val_loss: 16.3265\n",
            "Epoch 38/50\n",
            "4144/4144 [==============================] - 24s 6ms/step - loss: 6.3532 - val_loss: 13.4417\n",
            "Epoch 39/50\n",
            "4144/4144 [==============================] - 25s 6ms/step - loss: 6.2313 - val_loss: 13.7904\n",
            "Epoch 40/50\n",
            "4144/4144 [==============================] - 27s 7ms/step - loss: 5.9902 - val_loss: 13.0048\n",
            "Epoch 41/50\n",
            "4144/4144 [==============================] - 24s 6ms/step - loss: 5.9063 - val_loss: 11.9058\n",
            "Epoch 42/50\n",
            "4144/4144 [==============================] - 26s 6ms/step - loss: 5.6608 - val_loss: 12.1773\n",
            "Epoch 43/50\n",
            "4144/4144 [==============================] - 27s 7ms/step - loss: 5.5116 - val_loss: 12.3979\n",
            "Epoch 44/50\n",
            "4144/4144 [==============================] - 23s 6ms/step - loss: 5.3965 - val_loss: 11.7906\n",
            "Epoch 45/50\n",
            "4144/4144 [==============================] - 26s 6ms/step - loss: 5.3545 - val_loss: 11.4411\n",
            "Epoch 46/50\n",
            "4144/4144 [==============================] - 30s 7ms/step - loss: 5.1193 - val_loss: 10.9670\n",
            "Epoch 47/50\n",
            "4144/4144 [==============================] - 24s 6ms/step - loss: 5.0157 - val_loss: 10.4824\n",
            "Epoch 48/50\n",
            "4144/4144 [==============================] - 25s 6ms/step - loss: 4.7929 - val_loss: 9.9334\n",
            "Epoch 49/50\n",
            "4144/4144 [==============================] - 28s 7ms/step - loss: 4.7490 - val_loss: 9.0059\n",
            "Epoch 50/50\n",
            "4144/4144 [==============================] - 24s 6ms/step - loss: 4.7290 - val_loss: 8.9651\n",
            "1619/1619 [==============================] - 5s 3ms/step\n",
            "Mean Squared Error (MSE): 4.119730540575378\n",
            "Mean Absolute Error (MAE): 1.1114290995649299\n",
            "R-squared (R2): 0.999577541218464\n"
          ]
        }
      ],
      "source": [
        "#RNN(LSTM)\n",
        "from tensorflow.keras.models import Sequential\n",
        "from tensorflow.keras.layers import LSTM, Dense\n",
        "from sklearn.metrics import mean_squared_error, mean_absolute_error, r2_score\n",
        "\n",
        "X_train_reshaped = X_train_scaled.reshape((X_train_scaled.shape[0], X_train_scaled.shape[1], 1))\n",
        "X_test_reshaped = X_test_scaled.reshape((X_test_scaled.shape[0], X_test_scaled.shape[1], 1))\n",
        "modelrn = Sequential()\n",
        "modelrn.add(LSTM(50, input_shape=(X_train.shape[1], 1)))\n",
        "modelrn.add(Dense(1))\n",
        "\n",
        "modelrn.compile(optimizer='adam', loss='mean_squared_error')\n",
        "modelrn.fit(X_train_reshaped, y_train, epochs=50, batch_size=32, validation_split=0.2)\n",
        "predictions = modelrn.predict(X_test_reshaped)\n",
        "mse_rnn = mean_squared_error(y_test, predictions)\n",
        "mae_rnn = mean_absolute_error(y_test, predictions)\n",
        "r2_rnn = r2_score(y_test, predictions)\n",
        "\n",
        "print(f'Mean Squared Error (MSE): {mse_rnn}')\n",
        "print(f'Mean Absolute Error (MAE): {mae_rnn}')\n",
        "print(f'R-squared (R2): {r2_rnn}')"
      ]
    },
    {
      "cell_type": "code",
      "execution_count": null,
      "metadata": {
        "colab": {
          "base_uri": "https://localhost:8080/"
        },
        "id": "uIP2O1SpMEQW",
        "outputId": "9643b341-181c-40ed-f614-d598cf3860c3"
      },
      "outputs": [
        {
          "output_type": "stream",
          "name": "stdout",
          "text": [
            "0.9917177839170491\n",
            "0.9994457123211282\n",
            "0.999577541218464\n"
          ]
        }
      ],
      "source": [
        "print(r2_cnn)\n",
        "print(r2_ff)\n",
        "print(r2_rnn)\n"
      ]
    },
    {
      "cell_type": "code",
      "execution_count": null,
      "metadata": {
        "colab": {
          "base_uri": "https://localhost:8080/"
        },
        "id": "h4fGIuHRNx6O",
        "outputId": "6539b23d-584e-4e3e-ee79-b2a5102d7739"
      },
      "outputs": [
        {
          "output_type": "stream",
          "name": "stdout",
          "text": [
            "RNN 0.999577541218464\n"
          ]
        }
      ],
      "source": [
        "accuracy={\n",
        "    'CNN':r2_cnn,\n",
        "    'FNN':r2_ff,\n",
        "    'RNN':r2_rnn\n",
        "}\n",
        "max_accuracy = max(accuracy.values())\n",
        "best_model = [model for model, accuracy in accuracy.items() if accuracy == max_accuracy][0]\n",
        "\n",
        "print(best_model, max_accuracy)"
      ]
    },
    {
      "cell_type": "code",
      "execution_count": null,
      "metadata": {
        "colab": {
          "base_uri": "https://localhost:8080/",
          "height": 607
        },
        "id": "KIBlyTkD0Ua9",
        "outputId": "81f02587-be31-41b1-85fe-045e6e47f7ea"
      },
      "outputs": [
        {
          "output_type": "display_data",
          "data": {
            "text/plain": [
              "<Figure size 800x600 with 1 Axes>"
            ],
            "image/png": "[encoded data removed]"
          },
          "metadata": {}
        }
      ],
      "source": [
        "import matplotlib.pyplot as plt\n",
        "models = ['CNN', 'FNN', 'RNN']\n",
        "# mae_scores = [mae_cnn, mae_ff, mae_rnn]\n",
        "# mse_scores = [mse_cnn, mse_ff, mse_rnn]\n",
        "r2_scores = [r2_cnn, r2_ff, r2_rnn]\n",
        "\n",
        "fig, ax = plt.subplots(figsize=(8, 6))\n",
        "bar_width = 0.5\n",
        "bar_positions = np.arange(len(models))\n",
        "r2_bars = ax.bar(bar_positions, r2_scores, width=bar_width, color='orange')\n",
        "def add_value_labels(bars):\n",
        "    for bar in bars:\n",
        "        yval = bar.get_height()\n",
        "        ax.text(bar.get_x() + bar.get_width()/2, yval + 0.01, '{:.2f}'.format(yval), ha='center', va='bottom')\n",
        "\n",
        "add_value_labels(r2_bars)\n",
        "ax.set_xlabel('Models')\n",
        "ax.set_ylabel('R-squared Score')\n",
        "ax.set_title('Comparison of R-squared Scores across DL Models',pad=30)\n",
        "ax.set_xticks(bar_positions)\n",
        "ax.set_xticklabels(models)\n",
        "ax.set_ylim(0, 1.2)\n",
        "ax.grid(axis='y')\n",
        "plt.tight_layout()\n",
        "plt.show()"
      ]
    },
    {
      "cell_type": "code",
      "execution_count": null,
      "metadata": {
        "id": "vOsQsRkQNngJ",
        "colab": {
          "base_uri": "https://localhost:8080/",
          "height": 17
        },
        "outputId": "0d19144d-3fb2-4388-888e-e387e72f81b5"
      },
      "outputs": [
        {
          "output_type": "display_data",
          "data": {
            "text/plain": [
              "<IPython.core.display.Javascript object>"
            ],
            "application/javascript": [
              "\n",
              "    async function download(id, filename, size) {\n",
              "      if (!google.colab.kernel.accessAllowed) {\n",
              "        return;\n",
              "      }\n",
              "      const div = document.createElement('div');\n",
              "      const label = document.createElement('label');\n",
              "      label.textContent = `Downloading \"${filename}\": `;\n",
              "      div.appendChild(label);\n",
              "      const progress = document.createElement('progress');\n",
              "      progress.max = size;\n",
              "      div.appendChild(progress);\n",
              "      document.body.appendChild(div);\n",
              "\n",
              "      const buffers = [];\n",
              "      let downloaded = 0;\n",
              "\n",
              "      const channel = await google.colab.kernel.comms.open(id);\n",
              "      // Send a message to notify the kernel that we're ready.\n",
              "      channel.send({})\n",
              "\n",
              "      for await (const message of channel.messages) {\n",
              "        // Send a message to notify the kernel that we're ready.\n",
              "        channel.send({})\n",
              "        if (message.buffers) {\n",
              "          for (const buffer of message.buffers) {\n",
              "            buffers.push(buffer);\n",
              "            downloaded += buffer.byteLength;\n",
              "            progress.value = downloaded;\n",
              "          }\n",
              "        }\n",
              "      }\n",
              "      const blob = new Blob(buffers, {type: 'application/binary'});\n",
              "      const a = document.createElement('a');\n",
              "      a.href = window.URL.createObjectURL(blob);\n",
              "      a.download = filename;\n",
              "      div.appendChild(a);\n",
              "      a.click();\n",
              "      div.remove();\n",
              "    }\n",
              "  "
            ]
          },
          "metadata": {}
        },
        {
          "output_type": "display_data",
          "data": {
            "text/plain": [
              "<IPython.core.display.Javascript object>"
            ],
            "application/javascript": [
              "download(\"download_931ead47-1116-43ec-91b1-42c102c2f181\", \"dlaqi.pkl\", 147586)"
            ]
          },
          "metadata": {}
        }
      ],
      "source": [
        "import joblib\n",
        "joblib.dump(modelrn, 'dlaqi.pkl')\n",
        "from google.colab import files\n",
        "files.download('dlaqi.pkl')"
      ]
    },
    {
      "cell_type": "code",
      "execution_count": null,
      "metadata": {
        "id": "im7K3vEbRNYp"
      },
      "outputs": [],
      "source": [
        "#CNN\n",
        "# from tensorflow.keras.models import Sequential\n",
        "# from tensorflow.keras.layers import Conv1D, MaxPooling1D, Flatten, Dense"
      ]
    },
    {
      "cell_type": "code",
      "execution_count": null,
      "metadata": {
        "id": "d6driXNQTNj9"
      },
      "outputs": [],
      "source": [
        "# X_train_cnn = X_train.reshape(X_train.shape[0], X_train.shape[1], 1)\n",
        "# X_val_cnn = X_val.reshape(X_val.shape[0], X_val.shape[1], 1)\n",
        "# model_cnn = Sequential()\n",
        "# model_cnn.add(Conv1D(32, kernel_size=3, activation='relu', input_shape=(X_train_cnn.shape[1], 1)))\n",
        "# model_cnn.add(MaxPooling1D(pool_size=2))\n",
        "# model_cnn.add(Conv1D(64, kernel_size=3, activation='relu'))\n",
        "# model_cnn.add(MaxPooling1D(pool_size=2))\n",
        "# model_cnn.add(Flatten())\n",
        "# model_cnn.add(Dense(128, activation='relu'))\n",
        "# model_cnn.add(Dense(1))"
      ]
    },
    {
      "cell_type": "markdown",
      "metadata": {
        "id": "KCZJ9uvdOG_j"
      },
      "source": [
        "FNN (Feed Foreward Neural Network)\n"
      ]
    },
    {
      "cell_type": "code",
      "execution_count": null,
      "metadata": {
        "id": "Q_E64Y3-FiHw"
      },
      "outputs": [],
      "source": [
        "#FNN\n",
        "# df = df.sample(frac=1, random_state=42).reset_index(drop=True)"
      ]
    },
    {
      "cell_type": "code",
      "execution_count": null,
      "metadata": {
        "colab": {
          "base_uri": "https://localhost:8080/"
        },
        "id": "2pbLMcCAGkrA",
        "outputId": "d9d09ede-06fc-4d70-f608-3a580078748e"
      },
      "outputs": [
        {
          "data": {
            "text/plain": [
              "Index(['State', 'City', 'Station', 'From Date', 'To Date', 'Ozone', 'CO',\n",
              "       'SO2', 'NO2', 'PM10', 'PM2.5', 'AQI', 'AQI Bucket', 'PM10_Sub',\n",
              "       'PM2.5_Sub', 'SO2_Sub', 'NO2_Sub', 'CO_Sub', 'O3_Sub'],\n",
              "      dtype='object')"
            ]
          },
          "execution_count": 42,
          "metadata": {},
          "output_type": "execute_result"
        }
      ],
      "source": [
        "df.columns"
      ]
    },
    {
      "cell_type": "code",
      "execution_count": null,
      "metadata": {
        "id": "o2pPwVlwG25x"
      },
      "outputs": [],
      "source": [
        "# X = df[['Ozone', 'CO', 'SO2', 'NO2', 'PM10', 'PM2.5']].values\n",
        "# y = df['AQI'].values"
      ]
    },
    {
      "cell_type": "code",
      "execution_count": null,
      "metadata": {
        "id": "swtu_eOTGJmM"
      },
      "outputs": [],
      "source": [
        "\n",
        "# scaler = StandardScaler()\n",
        "# X = scaler.fit_transform(X)\n",
        "# # Split into training (70%) and temporary (30%) data\n",
        "# X_train, X_temp, y_train, y_temp = train_test_split(X, y, test_size=0.3, random_state=42)\n",
        "\n",
        "# # Split temporary data into validation (15%) and test (15%) sets\n",
        "# X_val, X_test, y_val, y_test = train_test_split(X_temp, y_temp, test_size=0.5, random_state=42)"
      ]
    },
    {
      "cell_type": "code",
      "execution_count": null,
      "metadata": {
        "id": "uqasG3JiHEWy"
      },
      "outputs": [],
      "source": [
        "# print(f'X_train shape: {X_train.shape}')\n",
        "# print(f'y_train shape: {y_train.shape}')\n",
        "# print(f'X_val shape: {X_val.shape}')\n",
        "# print(f'y_val shape: {y_val.shape}')\n",
        "# print(f'X_test shape: {X_test.shape}')\n",
        "# print(f'y_test shape: {y_test.shape}')"
      ]
    },
    {
      "cell_type": "code",
      "execution_count": null,
      "metadata": {
        "id": "bpwBONJPHHw9"
      },
      "outputs": [],
      "source": [
        "# #classification\n",
        "# # #tensorflow for feedforeward\n",
        "# # import tensorflow as tf\n",
        "# # from tensorflow.keras.models import Sequential\n",
        "# # from tensorflow.keras.layers import Dense\n",
        "\n",
        "# # # Define the model\n",
        "# # model = Sequential([\n",
        "# #     Dense(64, activation='relu', input_shape=(X_train.shape[1],)),\n",
        "# #     Dense(64, activation='relu'),\n",
        "# #     Dense(1, activation='sigmoid')  # Use 'softmax' for multi-class classification\n",
        "# # ])\n",
        "\n",
        "# # # Compile the model\n",
        "# # model.compile(optimizer='adam', loss='binary_crossentropy', metrics=['accuracy'])\n",
        "# #regression\n",
        "# import tensorflow as tf\n",
        "# from tensorflow.keras.models import Sequential\n",
        "# from tensorflow.keras.layers import Dense\n",
        "\n",
        "# # Define the model\n",
        "# model = Sequential([\n",
        "#     Dense(64, activation='relu', input_shape=(X_train.shape[1],)),\n",
        "#     Dense(64, activation='relu'),\n",
        "#     Dense(1)  # Output layer for regression\n",
        "# ])\n",
        "\n",
        "# # Compile the model\n",
        "# model.compile(optimizer='adam', loss='mean_squared_error', metrics=['mae'])\n",
        "\n",
        "# # Display the model's architecture\n",
        "# model.summary()\n"
      ]
    },
    {
      "cell_type": "code",
      "execution_count": null,
      "metadata": {
        "id": "YKjyx1ueHU8R"
      },
      "outputs": [],
      "source": [
        "# #training\n",
        "# history = model.fit(X_train, y_train, epochs=100, batch_size=32, validation_data=(X_val, y_val))"
      ]
    },
    {
      "cell_type": "code",
      "execution_count": null,
      "metadata": {
        "id": "CehiVsBsK-Cw"
      },
      "outputs": [],
      "source": [
        "# # Evaluate the model\n",
        "# test_loss, test_mae = model.evaluate(X_test, y_test)\n",
        "# print(f'Test MAE: {test_mae}')\n"
      ]
    },
    {
      "cell_type": "code",
      "execution_count": null,
      "metadata": {
        "id": "xXV8wSjBLAAE"
      },
      "outputs": [],
      "source": [
        "# # Make predictions\n",
        "# predictions = model.predict(X_test)\n"
      ]
    },
    {
      "cell_type": "code",
      "execution_count": null,
      "metadata": {
        "id": "q3vE4eO3LDeH"
      },
      "outputs": [],
      "source": [
        "# from tensorflow.keras.callbacks import EarlyStopping\n",
        "\n",
        "# # Define callbacks\n",
        "# early_stopping = EarlyStopping(monitor='val_loss', patience=10, restore_best_weights=True)\n",
        "\n",
        "# # Train the model with callbacks\n",
        "# history = model.fit(X_train, y_train, epochs=10, batch_size=32, validation_data=(X_val, y_val),\n",
        "#                     callbacks=[early_stopping])\n"
      ]
    },
    {
      "cell_type": "code",
      "execution_count": null,
      "metadata": {
        "id": "eqa1rSxfIc7F"
      },
      "outputs": [],
      "source": [
        "# # Evaluate the model\n",
        "# test_loss, test_accuracy = model.evaluate(X_test, y_test)\n",
        "# print(f'Test accuracy: {test_accuracy}')\n"
      ]
    },
    {
      "cell_type": "code",
      "execution_count": null,
      "metadata": {
        "id": "Ro3dX0UgJtb0"
      },
      "outputs": [],
      "source": [
        "# model.summary()"
      ]
    },
    {
      "cell_type": "markdown",
      "metadata": {
        "id": "qczK4dKfOWZg"
      },
      "source": [
        "LSTM"
      ]
    },
    {
      "cell_type": "code",
      "execution_count": null,
      "metadata": {
        "id": "EC2oXgciLqsn"
      },
      "outputs": [],
      "source": [
        "# #lstm\n",
        "# X = df[['Ozone', 'CO', 'SO2', 'NO2', 'PM10', 'PM2.5']].values\n",
        "# y = df['AQI'].values"
      ]
    },
    {
      "cell_type": "code",
      "execution_count": null,
      "metadata": {
        "id": "IohgfR7Kkdqa"
      },
      "outputs": [],
      "source": [
        "# scaler = StandardScaler()\n",
        "# X = scaler.fit_transform(X)\n",
        "\n",
        "# def create_sequences(X, y, time_steps=10):\n",
        "#     Xs, ys = [], []\n",
        "#     for i in range(len(X) - time_steps):\n",
        "#         Xs.append(X[i:(i + time_steps)])\n",
        "#         ys.append(y[i + time_steps])\n",
        "#     return np.array(Xs), np.array(ys)\n",
        "\n",
        "# time_steps = 10\n",
        "# X_seq, y_seq = create_sequences(X, y, time_steps)\n",
        "\n",
        "# # Split into training, validation, and test sets\n",
        "# split_1 = int(0.7 * len(X_seq))\n",
        "# split_2 = int(0.85 * len(X_seq))\n",
        "\n",
        "# X_train, y_train = X_seq[:split_1], y_seq[:split_1]\n",
        "# X_val, y_val = X_seq[split_1:split_2], y_seq[split_1:split_2]\n",
        "# X_test, y_test = X_seq[split_2:], y_seq[split_2:]"
      ]
    },
    {
      "cell_type": "code",
      "execution_count": null,
      "metadata": {
        "id": "vRwIduCBki-r"
      },
      "outputs": [],
      "source": [
        "# print(f'X_train shape: {X_train.shape}')\n",
        "# print(f'y_train shape: {y_train.shape}')\n",
        "# print(f'X_val shape: {X_val.shape}')\n",
        "# print(f'y_val shape: {y_val.shape}')\n",
        "# print(f'X_test shape: {X_test.shape}')\n",
        "# print(f'y_test shape: {y_test.shape}')"
      ]
    },
    {
      "cell_type": "code",
      "execution_count": null,
      "metadata": {
        "id": "1rE5_TwxknkE"
      },
      "outputs": [],
      "source": [
        "# import tensorflow as tf\n",
        "# from tensorflow.keras.models import Sequential\n",
        "# from tensorflow.keras.layers import LSTM, Dense\n",
        "\n",
        "# # Define the LSTM model\n",
        "# model = Sequential([\n",
        "#     LSTM(64, activation='relu', input_shape=(time_steps, X_train.shape[2])),\n",
        "#     Dense(1)  # Output layer for regression\n",
        "# ])\n",
        "\n",
        "# # Compile the model\n",
        "# model.compile(optimizer='adam', loss='mean_squared_error', metrics=['mae'])\n",
        "\n",
        "# # Display the model's architecture\n",
        "# model.summary()\n"
      ]
    },
    {
      "cell_type": "code",
      "execution_count": null,
      "metadata": {
        "id": "2JSw_Ri3kqvb"
      },
      "outputs": [],
      "source": [
        "# from tensorflow.keras.callbacks import EarlyStopping\n",
        "\n",
        "# # Define callbacks\n",
        "# early_stopping = EarlyStopping(monitor='val_loss', patience=10, restore_best_weights=True)\n",
        "\n",
        "# # Train the model\n",
        "# history = model.fit(X_train, y_train, epochs=100, batch_size=32, validation_data=(X_val, y_val),\n",
        "#                     callbacks=[early_stopping])\n"
      ]
    },
    {
      "cell_type": "code",
      "execution_count": null,
      "metadata": {
        "id": "3fPGT9HR2ccL"
      },
      "outputs": [],
      "source": [
        "# # Evaluate the model\n",
        "# test_loss, test_mae = model.evaluate(X_test, y_test)\n",
        "# print(f'Test MAE: {test_mae}')\n"
      ]
    },
    {
      "cell_type": "code",
      "execution_count": null,
      "metadata": {
        "id": "RwXDGBcq2fnu"
      },
      "outputs": [],
      "source": [
        "# # Make predictions\n",
        "# predictions = model.predict(X_test)\n"
      ]
    },
    {
      "cell_type": "markdown",
      "metadata": {
        "id": "ODmH1NdmOakR"
      },
      "source": [
        "CNN"
      ]
    },
    {
      "cell_type": "code",
      "execution_count": null,
      "metadata": {
        "id": "ARjiPNfM4hMd"
      },
      "outputs": [],
      "source": [
        "# #CNN\n",
        "# def create_sequences(X, y, time_steps=10):\n",
        "#     Xs, ys = [], []\n",
        "#     for i in range(len(X) - time_steps):\n",
        "#         Xs.append(X[i:(i + time_steps)])\n",
        "#         ys.append(y[i + time_steps])\n",
        "#     return np.array(Xs), np.array(ys)\n",
        "\n",
        "# time_steps = 10\n",
        "# X_seq, y_seq = create_sequences(X, y, time_steps)\n",
        "\n",
        "# # Split into training, validation, and test sets\n",
        "# split_1 = int(0.7 * len(X_seq))\n",
        "# split_2 = int(0.85 * len(X_seq))\n",
        "\n",
        "# X_train, y_train = X_seq[:split_1], y_seq[:split_1]\n",
        "# X_val, y_val = X_seq[split_1:split_2], y_seq[split_1:split_2]\n",
        "# X_test, y_test = X_seq[split_2:], y_seq[split_2:]"
      ]
    },
    {
      "cell_type": "code",
      "execution_count": null,
      "metadata": {
        "id": "S0ugcKbA4nEo"
      },
      "outputs": [],
      "source": [
        "# print(f'X_train shape: {X_train.shape}')\n",
        "# print(f'y_train shape: {y_train.shape}')\n",
        "# print(f'X_val shape: {X_val.shape}')\n",
        "# print(f'y_val shape: {y_val.shape}')\n",
        "# print(f'X_test shape: {X_test.shape}')\n",
        "# print(f'y_test shape: {y_test.shape}')"
      ]
    },
    {
      "cell_type": "code",
      "execution_count": null,
      "metadata": {
        "id": "n1lTi7GH4o-J"
      },
      "outputs": [],
      "source": [
        "# import tensorflow as tf\n",
        "# from tensorflow.keras.models import Sequential\n",
        "# from tensorflow.keras.layers import Conv1D, MaxPooling1D, Flatten, Dense\n",
        "\n",
        "# # Define the 1D CNN model\n",
        "# model = Sequential([\n",
        "#     Conv1D(filters=64, kernel_size=2, activation='relu', input_shape=(time_steps, X_train.shape[2])),\n",
        "#     MaxPooling1D(pool_size=2),\n",
        "#     Flatten(),\n",
        "#     Dense(50, activation='relu'),\n",
        "#     Dense(1)  # Output layer for regression\n",
        "# ])\n",
        "\n",
        "# # Compile the model\n",
        "# model.compile(optimizer='adam', loss='mean_squared_error', metrics=['mae'])\n",
        "\n",
        "# # Display the model's architecture\n",
        "# model.summary()\n"
      ]
    },
    {
      "cell_type": "code",
      "execution_count": null,
      "metadata": {
        "id": "ySOAZQzw4s_h"
      },
      "outputs": [],
      "source": [
        "# from tensorflow.keras.callbacks import EarlyStopping\n",
        "\n",
        "# # Define callbacks\n",
        "# early_stopping = EarlyStopping(monitor='val_loss', patience=10, restore_best_weights=True)\n",
        "\n",
        "# # Train the model\n",
        "# history = model.fit(X_train, y_train, epochs=100, batch_size=32, validation_data=(X_val, y_val),\n",
        "#                     callbacks=[early_stopping])\n"
      ]
    },
    {
      "cell_type": "code",
      "execution_count": null,
      "metadata": {
        "id": "zKCNwfFt4xn_"
      },
      "outputs": [],
      "source": [
        "# # Evaluate the model\n",
        "# test_loss, test_mae = model.evaluate(X_test, y_test)\n",
        "# print(f'Test MAE: {test_mae}')\n"
      ]
    },
    {
      "cell_type": "code",
      "execution_count": null,
      "metadata": {
        "id": "7yDDyik97ESS"
      },
      "outputs": [],
      "source": [
        "# # Make predictions\n",
        "# predictions = model.predict(X_test)\n"
      ]
    },
    {
      "cell_type": "code",
      "execution_count": null,
      "metadata": {
        "id": "ejqJOh9d7Luy"
      },
      "outputs": [],
      "source": [
        "# predictions"
      ]
    },
    {
      "cell_type": "markdown",
      "metadata": {
        "id": "HuKP6RvkOfu2"
      },
      "source": [
        "RNN"
      ]
    },
    {
      "cell_type": "code",
      "execution_count": null,
      "metadata": {
        "id": "_Jbbdm8N7O1l"
      },
      "outputs": [],
      "source": [
        "# #RNN\n",
        "# def create_sequences(X, y, time_steps=10):\n",
        "#     Xs, ys = [], []\n",
        "#     for i in range(len(X) - time_steps):\n",
        "#         Xs.append(X[i:(i + time_steps)])\n",
        "#         ys.append(y[i + time_steps])\n",
        "#     return np.array(Xs), np.array(ys)\n",
        "\n",
        "# time_steps = 10\n",
        "# X_seq, y_seq = create_sequences(X, y, time_steps)\n",
        "\n",
        "# # Split into training, validation, and test sets\n",
        "# split_1 = int(0.7 * len(X_seq))\n",
        "# split_2 = int(0.85 * len(X_seq))\n",
        "\n",
        "# X_train, y_train = X_seq[:split_1], y_seq[:split_1]\n",
        "# X_val, y_val = X_seq[split_1:split_2], y_seq[split_1:split_2]\n",
        "# X_test, y_test = X_seq[split_2:], y_seq[split_2:]"
      ]
    },
    {
      "cell_type": "code",
      "execution_count": null,
      "metadata": {
        "id": "p88ibhO17jKl"
      },
      "outputs": [],
      "source": [
        "# print(f'X_train shape: {X_train.shape}')\n",
        "# print(f'y_train shape: {y_train.shape}')\n",
        "# print(f'X_val shape: {X_val.shape}')\n",
        "# print(f'y_val shape: {y_val.shape}')\n",
        "# print(f'X_test shape: {X_test.shape}')\n",
        "# print(f'y_test shape: {y_test.shape}')"
      ]
    },
    {
      "cell_type": "code",
      "execution_count": null,
      "metadata": {
        "id": "d2IFVUH77lT-"
      },
      "outputs": [],
      "source": [
        "# import tensorflow as tf\n",
        "# from tensorflow.keras.models import Sequential\n",
        "# from tensorflow.keras.layers import SimpleRNN, Dense\n",
        "\n",
        "# # Define the RNN model\n",
        "# model = Sequential([\n",
        "#     SimpleRNN(50, activation='relu', input_shape=(time_steps, X_train.shape[2])),\n",
        "#     Dense(1)  # Output layer for regression\n",
        "# ])\n",
        "\n",
        "# # Compile the model\n",
        "# model.compile(optimizer='adam', loss='mean_squared_error', metrics=['mae'])\n",
        "\n",
        "# # Display the model's architecture\n",
        "# model.summary()\n"
      ]
    },
    {
      "cell_type": "code",
      "execution_count": null,
      "metadata": {
        "id": "Nnt8G6mW7pdu"
      },
      "outputs": [],
      "source": [
        "# from tensorflow.keras.callbacks import EarlyStopping\n",
        "\n",
        "# # Define callbacks\n",
        "# early_stopping = EarlyStopping(monitor='val_loss', patience=10, restore_best_weights=True)\n",
        "\n",
        "# # Train the model\n",
        "# history = model.fit(X_train, y_train, epochs=100, batch_size=32, validation_data=(X_val, y_val),\n",
        "#                     callbacks=[early_stopping])\n"
      ]
    },
    {
      "cell_type": "code",
      "execution_count": null,
      "metadata": {
        "id": "g90tBflk7sEK"
      },
      "outputs": [],
      "source": [
        "# # Evaluate the model\n",
        "# test_loss, test_mae = model.evaluate(X_test, y_test)\n",
        "# print(f'Test MAE: {test_mae}')\n"
      ]
    },
    {
      "cell_type": "code",
      "execution_count": null,
      "metadata": {
        "id": "9PpXT2VK-our"
      },
      "outputs": [],
      "source": [
        "# # Make predictions\n",
        "# predictions = model.predict(X_test)\n"
      ]
    },
    {
      "cell_type": "markdown",
      "metadata": {
        "id": "WIQDS0VsOiaI"
      },
      "source": [
        "GRU (Gated Recurrent Unit)"
      ]
    },
    {
      "cell_type": "code",
      "execution_count": null,
      "metadata": {
        "id": "oN8Xi3pMBtEM"
      },
      "outputs": [],
      "source": [
        "# #Gated Recurrent Unit(GRU)\n",
        "# def create_sequences(X, y, time_steps=10):\n",
        "#     Xs, ys = [], []\n",
        "#     for i in range(len(X) - time_steps):\n",
        "#         Xs.append(X[i:(i + time_steps)])\n",
        "#         ys.append(y[i + time_steps])\n",
        "#     return np.array(Xs), np.array(ys)\n",
        "\n",
        "# time_steps = 10\n",
        "# X_seq, y_seq = create_sequences(X, y, time_steps)\n",
        "\n",
        "# # Split into training, validation, and test sets\n",
        "# split_1 = int(0.7 * len(X_seq))\n",
        "# split_2 = int(0.85 * len(X_seq))\n",
        "\n",
        "# X_train, y_train = X_seq[:split_1], y_seq[:split_1]\n",
        "# X_val, y_val = X_seq[split_1:split_2], y_seq[split_1:split_2]\n",
        "# X_test, y_test = X_seq[split_2:], y_seq[split_2:]"
      ]
    },
    {
      "cell_type": "code",
      "execution_count": null,
      "metadata": {
        "id": "2O53ytx-BzlA"
      },
      "outputs": [],
      "source": [
        "# print(f'X_train shape: {X_train.shape}')\n",
        "# print(f'y_train shape: {y_train.shape}')\n",
        "# print(f'X_val shape: {X_val.shape}')\n",
        "# print(f'y_val shape: {y_val.shape}')\n",
        "# print(f'X_test shape: {X_test.shape}')\n",
        "# print(f'y_test shape: {y_test.shape}')"
      ]
    },
    {
      "cell_type": "code",
      "execution_count": null,
      "metadata": {
        "id": "qnvDpddfB6mw"
      },
      "outputs": [],
      "source": [
        "# import tensorflow as tf\n",
        "# from tensorflow.keras.models import Sequential\n",
        "# from tensorflow.keras.layers import GRU, Dense\n",
        "\n",
        "# # Define the GRU model\n",
        "# model = Sequential([\n",
        "#     GRU(50, activation='relu', input_shape=(time_steps, X_train.shape[2])),\n",
        "#     Dense(1)  # Output layer for regression\n",
        "# ])\n",
        "\n",
        "# # Compile the model\n",
        "# model.compile(optimizer='adam', loss='mean_squared_error', metrics=['mae'])\n",
        "\n",
        "# # Display the model's architecture\n",
        "# model.summary()\n"
      ]
    },
    {
      "cell_type": "code",
      "execution_count": null,
      "metadata": {
        "id": "SNwhWZ-FB9f3"
      },
      "outputs": [],
      "source": [
        "# from tensorflow.keras.callbacks import EarlyStopping\n",
        "\n",
        "# # Define callbacks\n",
        "# early_stopping = EarlyStopping(monitor='val_loss', patience=10, restore_best_weights=True)\n",
        "\n",
        "# # Train the model\n",
        "# history = model.fit(X_train, y_train, epochs=100, batch_size=32, validation_data=(X_val, y_val),\n",
        "#                     callbacks=[early_stopping])\n"
      ]
    },
    {
      "cell_type": "code",
      "execution_count": null,
      "metadata": {
        "id": "27BOf9kpCDMu"
      },
      "outputs": [],
      "source": [
        "# # Evaluate the model\n",
        "# test_loss, test_mae = model.evaluate(X_test, y_test)\n",
        "# print(f'Test MAE: {test_mae}')\n"
      ]
    },
    {
      "cell_type": "code",
      "execution_count": null,
      "metadata": {
        "id": "7AqX_JgiGzdv"
      },
      "outputs": [],
      "source": [
        "# # Make predictions\n",
        "# predictions = model.predict(X_test)\n"
      ]
    },
    {
      "cell_type": "markdown",
      "metadata": {
        "id": "4GXX3bTyOn_7"
      },
      "source": [
        "TCN(Temporal Convolutional Networks) simple architecture than CNN"
      ]
    },
    {
      "cell_type": "code",
      "execution_count": null,
      "metadata": {
        "id": "fIQgdXAnG-6b"
      },
      "outputs": [],
      "source": [
        "# #Temporal Convolutional Networks (TCNs)\n",
        "# def create_sequences(X, y, time_steps=10):\n",
        "#     Xs, ys = [], []\n",
        "#     for i in range(len(X) - time_steps):\n",
        "#         Xs.append(X[i:(i + time_steps)])\n",
        "#         ys.append(y[i + time_steps])\n",
        "#     return np.array(Xs), np.array(ys)\n",
        "\n",
        "# time_steps = 10\n",
        "# X_seq, y_seq = create_sequences(X, y, time_steps)\n",
        "\n",
        "# # Split into training, validation, and test sets\n",
        "# split_1 = int(0.7 * len(X_seq))\n",
        "# split_2 = int(0.85 * len(X_seq))\n",
        "\n",
        "# X_train, y_train = X_seq[:split_1], y_seq[:split_1]\n",
        "# X_val, y_val = X_seq[split_1:split_2], y_seq[split_1:split_2]\n",
        "# X_test, y_test = X_seq[split_2:], y_seq[split_2:]"
      ]
    },
    {
      "cell_type": "code",
      "execution_count": null,
      "metadata": {
        "id": "QWvamHoiIIQb"
      },
      "outputs": [],
      "source": [
        "# print(f'X_train shape: {X_train.shape}')\n",
        "# print(f'y_train shape: {y_train.shape}')\n",
        "# print(f'X_val shape: {X_val.shape}')\n",
        "# print(f'y_val shape: {y_val.shape}')\n",
        "# print(f'X_test shape: {X_test.shape}')\n",
        "# print(f'y_test shape: {y_test.shape}')"
      ]
    },
    {
      "cell_type": "code",
      "execution_count": null,
      "metadata": {
        "id": "l-fygLQFILVo"
      },
      "outputs": [],
      "source": [
        "# #installing addons for tcn\n",
        "# %pip install tensorflow-addons\n",
        "# # %pip install tensorflow-addons\n"
      ]
    },
    {
      "cell_type": "markdown",
      "metadata": {
        "id": "9fPsd0d_OyB3"
      },
      "source": [
        "Error as the addons were not installed perfectly or can't be identified, that contains the TCN in line 4"
      ]
    },
    {
      "cell_type": "code",
      "execution_count": null,
      "metadata": {
        "id": "XwBcs16ZIUuD"
      },
      "outputs": [],
      "source": [
        "# import tensorflow as tf\n",
        "# from tensorflow.keras.models import Sequential\n",
        "# from tensorflow.keras.layers import Dense\n",
        "# from tensorflow_addons.layers import TCN\n",
        "\n",
        "# # Define the TCN model\n",
        "# model = Sequential([\n",
        "#     TCN(input_shape=(time_steps, X_train.shape[2])),\n",
        "#     Dense(1)  # Output layer for regression\n",
        "# ])\n",
        "\n",
        "# # Compile the model\n",
        "# model.compile(optimizer='adam', loss='mean_squared_error', metrics=['mae'])\n",
        "\n",
        "# # Display the model's architecture\n",
        "# model.summary()\n"
      ]
    }
  ],
  "metadata": {
    "colab": {
      "provenance": [],
      "include_colab_link": true
    },
    "kernelspec": {
      "display_name": "Python 3",
      "name": "python3"
    },
    "language_info": {
      "name": "python"
    }
  },
  "nbformat": 4,
  "nbformat_minor": 0
}